{
 "cells": [
  {
   "cell_type": "code",
   "execution_count": 3,
   "id": "5b2c3cd5",
   "metadata": {},
   "outputs": [],
   "source": [
    "import requests\n",
    "import os"
   ]
  },
  {
   "cell_type": "code",
   "execution_count": 18,
   "id": "642f9fa7",
   "metadata": {},
   "outputs": [],
   "source": [
    "bad_payload = {\n",
    "    \"model\": \"52f898f6\",\n",
    "    \"checkpoint\": \"30-03-2025-1505-06.pth\",\n",
    "    \"dataset\": \"820990fd-07-03-2025-1107-03\",\n",
    "    \"epochs\": \"100\",\n",
    "    \"learningRate\": \"0.001\",\n",
    "    \"optimizer\": \"ADAM\",\n",
    "    \"lossFunction\": 'MSE',\n",
    "    \"xVal\": 20,\n",
    "}"
   ]
  },
  {
   "cell_type": "code",
   "execution_count": 20,
   "id": "95fe14d4",
   "metadata": {},
   "outputs": [
    {
     "name": "stdout",
     "output_type": "stream",
     "text": [
      "200\n",
      "{'body': 'Training request received successfully.'}\n"
     ]
    }
   ],
   "source": [
    "response = requests.post(\"http://127.0.0.1:5000/submit_training\", json=bad_payload)\n",
    "print(response.status_code)\n",
    "print(response.json())\n"
   ]
  },
  {
   "cell_type": "code",
   "execution_count": 8,
   "id": "bbdde468",
   "metadata": {},
   "outputs": [
    {
     "name": "stdout",
     "output_type": "stream",
     "text": [
      "400\n"
     ]
    }
   ],
   "source": [
    "real_base = os.path.realpath(os.getcwd())"
   ]
  },
  {
   "cell_type": "code",
   "execution_count": 60,
   "id": "50e08ab8",
   "metadata": {},
   "outputs": [],
   "source": [
    "bad_payload = {\n",
    "    \"value\": \"dfas8888\",\n",
    "    \"modelName\": \"some model name\",\n",
    "    \"description\": \"some model description\",\n",
    "    \"input\": \"\",\n",
    "    \"output\": \"\",\n",
    "    \"layers\": [{\n",
    "        \"id\": \"fgs88dfg\",\n",
    "        \"activation\": \"afasd\",\n",
    "        \"layer_type\": \"asdf\",\n",
    "        \"padding\": \"1\",\n",
    "        \"x_0\": \"1\",\n",
    "        \"x_1\": \"1\",\n",
    "        \"x_2\": \"\",\n",
    "        \"x_3\": \"\",\n",
    "    }]\n",
    "}"
   ]
  },
  {
   "cell_type": "code",
   "execution_count": 61,
   "id": "ef891c63",
   "metadata": {},
   "outputs": [
    {
     "name": "stdout",
     "output_type": "stream",
     "text": [
      "200\n",
      "{'body': 'success!'}\n"
     ]
    }
   ],
   "source": [
    "response = requests.post(\"http://127.0.0.1:5000/submit_model\", json=bad_payload)\n",
    "print(response.status_code)\n",
    "print(response.json())"
   ]
  },
  {
   "cell_type": "code",
   "execution_count": 74,
   "id": "bb00ff91",
   "metadata": {},
   "outputs": [],
   "source": [
    "bad_payload = {\n",
    "    \"model\": \"dfas8888\",\n",
    "    \"image_url\": \"data/user_uploaded_test/00a3e193.jpg\",\n",
    "    \"image_path\": \"data/user_uploaded_test/00a3e193.jpg\",\n",
    "    \"checkpoint\": \"ff233dff\",\n",
    "}"
   ]
  },
  {
   "cell_type": "code",
   "execution_count": 78,
   "id": "4b3161c2",
   "metadata": {},
   "outputs": [
    {
     "name": "stdout",
     "output_type": "stream",
     "text": [
      "200\n",
      "{'error': 'Error: image_url: Image paths are required'}\n"
     ]
    }
   ],
   "source": [
    "response = requests.post(\"http://127.0.0.1:5000/generate_material\", json=bad_payload)\n",
    "print(response.status_code)\n",
    "print(response.json())"
   ]
  },
  {
   "cell_type": "code",
   "execution_count": 13,
   "id": "a1b26e23",
   "metadata": {},
   "outputs": [
    {
     "name": "stdout",
     "output_type": "stream",
     "text": [
      "200\n"
     ]
    },
    {
     "ename": "AttributeError",
     "evalue": "'Response' object has no attribute 'type'",
     "output_type": "error",
     "traceback": [
      "\u001b[1;31m---------------------------------------------------------------------------\u001b[0m",
      "\u001b[1;31mAttributeError\u001b[0m                            Traceback (most recent call last)",
      "Cell \u001b[1;32mIn[13], line 3\u001b[0m\n\u001b[0;32m      1\u001b[0m response \u001b[38;5;241m=\u001b[39m requests\u001b[38;5;241m.\u001b[39mget(\u001b[38;5;124m\"\u001b[39m\u001b[38;5;124mhttp://127.0.0.1:5000/.gitignore\u001b[39m\u001b[38;5;124m\"\u001b[39m)\n\u001b[0;32m      2\u001b[0m \u001b[38;5;28mprint\u001b[39m(response\u001b[38;5;241m.\u001b[39mstatus_code)\n\u001b[1;32m----> 3\u001b[0m \u001b[38;5;28mprint\u001b[39m(\u001b[43mresponse\u001b[49m\u001b[38;5;241;43m.\u001b[39;49m\u001b[43mtype\u001b[49m())\n",
      "\u001b[1;31mAttributeError\u001b[0m: 'Response' object has no attribute 'type'"
     ]
    }
   ],
   "source": [
    "response = requests.get(\"http://127.0.0.1:5000/.gitignore\")\n",
    "print(response.status_code)\n",
    "print(response.type())"
   ]
  },
  {
   "cell_type": "code",
   "execution_count": null,
   "id": "b758b5b4",
   "metadata": {},
   "outputs": [],
   "source": [
    "http://127.0.0.1:5000/MLApp/data/user_uploaded_test/0b02a93d.jpg"
   ]
  }
 ],
 "metadata": {
  "kernelspec": {
   "display_name": "Python 3 (ipykernel)",
   "language": "python",
   "name": "python3"
  },
  "language_info": {
   "codemirror_mode": {
    "name": "ipython",
    "version": 3
   },
   "file_extension": ".py",
   "mimetype": "text/x-python",
   "name": "python",
   "nbconvert_exporter": "python",
   "pygments_lexer": "ipython3",
   "version": "3.10.9"
  }
 },
 "nbformat": 4,
 "nbformat_minor": 5
}
