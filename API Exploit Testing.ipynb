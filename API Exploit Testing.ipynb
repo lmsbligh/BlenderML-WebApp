{
 "cells": [
  {
   "cell_type": "code",
   "execution_count": 15,
   "id": "5b2c3cd5",
   "metadata": {},
   "outputs": [],
   "source": [
    "import requests\n",
    "import os"
   ]
  },
  {
   "cell_type": "code",
   "execution_count": 16,
   "id": "642f9fa7",
   "metadata": {},
   "outputs": [],
   "source": [
    "bad_payload = {\n",
    "    \"model\": \"some-model\",\n",
    "    \"checkpoint\": \"test101\",\n",
    "    \"dataset\": \"1\",\n",
    "    \"epochs\": \"1\",\n",
    "    \"learningRate\": \"0.1\",\n",
    "    \"optimizer\": \"250\",\n",
    "    \"lossFunction\": '{\"a\": \"\"}',\n",
    "    \"xVal\": \"20\",\n",
    "}"
   ]
  },
  {
   "cell_type": "code",
   "execution_count": 17,
   "id": "95fe14d4",
   "metadata": {},
   "outputs": [
    {
     "name": "stdout",
     "output_type": "stream",
     "text": [
      "200\n",
      "{'body': 'Training request received successfully.'}\n"
     ]
    }
   ],
   "source": [
    "response = requests.post(\"http://127.0.0.1:5000/submit_training\", json=bad_payload)\n",
    "print(response.status_code)\n",
    "print(response.json())\n"
   ]
  },
  {
   "cell_type": "code",
   "execution_count": 8,
   "id": "bbdde468",
   "metadata": {},
   "outputs": [
    {
     "name": "stdout",
     "output_type": "stream",
     "text": [
      "400\n"
     ]
    }
   ],
   "source": [
    "real_base = os.path.realpath(os.getcwd())"
   ]
  },
  {
   "cell_type": "code",
   "execution_count": 60,
   "id": "50e08ab8",
   "metadata": {},
   "outputs": [],
   "source": [
    "bad_payload = {\n",
    "    \"value\": \"dfas8888\",\n",
    "    \"modelName\": \"some model name\",\n",
    "    \"description\": \"some model description\",\n",
    "    \"input\": \"\",\n",
    "    \"output\": \"\",\n",
    "    \"layers\": [{\n",
    "        \"id\": \"fgs88dfg\",\n",
    "        \"activation\": \"afasd\",\n",
    "        \"layer_type\": \"asdf\",\n",
    "        \"padding\": \"1\",\n",
    "        \"x_0\": \"1\",\n",
    "        \"x_1\": \"1\",\n",
    "        \"x_2\": \"\",\n",
    "        \"x_3\": \"\",\n",
    "    }]\n",
    "}"
   ]
  },
  {
   "cell_type": "code",
   "execution_count": 61,
   "id": "ef891c63",
   "metadata": {},
   "outputs": [
    {
     "name": "stdout",
     "output_type": "stream",
     "text": [
      "200\n",
      "{'body': 'success!'}\n"
     ]
    }
   ],
   "source": [
    "response = requests.post(\"http://127.0.0.1:5000/submit_model\", json=bad_payload)\n",
    "print(response.status_code)\n",
    "print(response.json())"
   ]
  },
  {
   "cell_type": "code",
   "execution_count": 74,
   "id": "bb00ff91",
   "metadata": {},
   "outputs": [],
   "source": [
    "bad_payload = {\n",
    "    \"model\": \"dfas8888\",\n",
    "    \"image_url\": \"data/user_uploaded_test/00a3e193.jpg\",\n",
    "    \"image_path\": \"data/user_uploaded_test/00a3e193.jpg\",\n",
    "    \"checkpoint\": \"ff233dff\",\n",
    "}"
   ]
  },
  {
   "cell_type": "code",
   "execution_count": 78,
   "id": "4b3161c2",
   "metadata": {},
   "outputs": [
    {
     "name": "stdout",
     "output_type": "stream",
     "text": [
      "200\n",
      "{'error': 'Error: image_url: Image paths are required'}\n"
     ]
    }
   ],
   "source": [
    "response = requests.post(\"http://127.0.0.1:5000/generate_material\", json=bad_payload)\n",
    "print(response.status_code)\n",
    "print(response.json())"
   ]
  },
  {
   "cell_type": "code",
   "execution_count": null,
   "id": "a1b26e23",
   "metadata": {},
   "outputs": [],
   "source": []
  }
 ],
 "metadata": {
  "kernelspec": {
   "display_name": "Python 3 (ipykernel)",
   "language": "python",
   "name": "python3"
  },
  "language_info": {
   "codemirror_mode": {
    "name": "ipython",
    "version": 3
   },
   "file_extension": ".py",
   "mimetype": "text/x-python",
   "name": "python",
   "nbconvert_exporter": "python",
   "pygments_lexer": "ipython3",
   "version": "3.10.9"
  }
 },
 "nbformat": 4,
 "nbformat_minor": 5
}
