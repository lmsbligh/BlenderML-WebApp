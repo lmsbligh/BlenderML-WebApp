{
 "cells": [
  {
   "cell_type": "code",
   "execution_count": 67,
   "id": "a70d7f19",
   "metadata": {},
   "outputs": [],
   "source": [
    "import sqlite3\n",
    "DATABASE_PATH = \"data.db\"\n",
    "con = sqlite3.connect(DATABASE_PATH)\n",
    "con.row_factory = sqlite3.Row\n",
    "cur = con.cursor()"
   ]
  },
  {
   "cell_type": "code",
   "execution_count": 2,
   "id": "31c98435",
   "metadata": {},
   "outputs": [],
   "source": [
    "try:\n",
    "    cur.execute(\"ALTER TABLE training_runs ADD COLUMN batch_size INTEGER\")\n",
    "except sqlite3.OperationalError as e:\n",
    "    if \"duplicate column name\" in str(e).lower():\n",
    "        print(\"Column already exists.\")\n",
    "    else:\n",
    "        raise\n",
    "\n",
    "con.commit()\n",
    "con.close()\n"
   ]
  },
  {
   "cell_type": "code",
   "execution_count": 46,
   "id": "3b512f14",
   "metadata": {},
   "outputs": [],
   "source": [
    "dataset_value = \"820990fd-10-06-2025-1227-47-train\""
   ]
  },
  {
   "cell_type": "code",
   "execution_count": 60,
   "id": "e9ea1c67",
   "metadata": {},
   "outputs": [
    {
     "data": {
      "text/plain": [
       "<sqlite3.Cursor at 0x27156c8cd40>"
      ]
     },
     "execution_count": 60,
     "metadata": {},
     "output_type": "execute_result"
    }
   ],
   "source": [
    "cur.execute(\"\"\"\n",
    "                SELECT datasetSize FROM datasets\n",
    "                WHERE value = ?\n",
    "            \"\"\", (dataset_value,))"
   ]
  },
  {
   "cell_type": "code",
   "execution_count": 61,
   "id": "896586f8",
   "metadata": {},
   "outputs": [],
   "source": [
    "row = cur.fetchall()\n",
    "data = [dict(row) for row in rows]"
   ]
  },
  {
   "cell_type": "code",
   "execution_count": 62,
   "id": "0555ee01",
   "metadata": {},
   "outputs": [
    {
     "name": "stdout",
     "output_type": "stream",
     "text": [
      "[{'datasetSize': 120}]\n"
     ]
    }
   ],
   "source": [
    "print(data)"
   ]
  },
  {
   "cell_type": "code",
   "execution_count": null,
   "id": "51bff739",
   "metadata": {},
   "outputs": [],
   "source": []
  },
  {
   "cell_type": "markdown",
   "id": "20d83fda",
   "metadata": {},
   "source": [
    "backed up profiles old:"
   ]
  },
  {
   "cell_type": "code",
   "execution_count": 6,
   "id": "d0a56f72",
   "metadata": {},
   "outputs": [
    {
     "data": {
      "text/plain": [
       "<sqlite3.Cursor at 0x246ac30a740>"
      ]
     },
     "execution_count": 6,
     "metadata": {},
     "output_type": "execute_result"
    }
   ],
   "source": [
    "cur.execute(\"ALTER TABLE profiles RENAME TO profiles_old\")\n"
   ]
  },
  {
   "cell_type": "code",
   "execution_count": 9,
   "id": "444d1ec1",
   "metadata": {},
   "outputs": [
    {
     "data": {
      "text/plain": [
       "<sqlite3.Cursor at 0x246ac30a740>"
      ]
     },
     "execution_count": 9,
     "metadata": {},
     "output_type": "execute_result"
    }
   ],
   "source": [
    "cur.execute(\"CREATE TABLE profiles(\"\n",
    "            \"value TEXT PRIMARY KEY,\"\n",
    "            \"datasetName TEXT,\"\n",
    "            \"datasetSize INTEGER,\"\n",
    "            \"description TEXT,\"\n",
    "            \"imageHeight INTEGER,\"\n",
    "            \"imageWidth INTEGER,\"\n",
    "            \"randomOrientation TEXT,\"\n",
    "            \"CVPercentage INTEGER,\"\n",
    "            \"TestSetPercentage INTEGER)\")"
   ]
  },
  {
   "cell_type": "code",
   "execution_count": 10,
   "id": "400f8656",
   "metadata": {},
   "outputs": [
    {
     "ename": "OperationalError",
     "evalue": "no such column: value",
     "output_type": "error",
     "traceback": [
      "\u001b[1;31m---------------------------------------------------------------------------\u001b[0m",
      "\u001b[1;31mOperationalError\u001b[0m                          Traceback (most recent call last)",
      "Cell \u001b[1;32mIn[10], line 1\u001b[0m\n\u001b[1;32m----> 1\u001b[0m \u001b[43mcur\u001b[49m\u001b[38;5;241;43m.\u001b[39;49m\u001b[43mexecute\u001b[49m\u001b[43m(\u001b[49m\u001b[38;5;124;43m\"\u001b[39;49m\u001b[38;5;124;43mINSERT INTO profiles (value, datasetName, datasetSize, description, imageHeight, imageWidth, randomOrientation, CVPercentage, TestSetPercentage)\u001b[39;49m\u001b[38;5;124;43m\"\u001b[39;49m\n\u001b[0;32m      2\u001b[0m \u001b[38;5;124;43m\"\u001b[39;49m\u001b[38;5;124;43mSELECT value, datasetName, datasetSize, description, imageHeight, imageWidth, randomOrientation, CVPercentage, TestSetPercentage\u001b[39;49m\u001b[38;5;124;43m\"\u001b[39;49m\n\u001b[0;32m      3\u001b[0m \u001b[38;5;124;43m\"\u001b[39;49m\u001b[38;5;124;43mFROM profiles_old\u001b[39;49m\u001b[38;5;124;43m\"\u001b[39;49m\u001b[43m)\u001b[49m\n",
      "\u001b[1;31mOperationalError\u001b[0m: no such column: value"
     ]
    }
   ],
   "source": [
    "cur.execute(\"INSERT INTO profiles (value, datasetName, datasetSize, description, imageHeight, imageWidth, randomOrientation, CVPercentage, TestSetPercentage)\"\n",
    "\"SELECT value, datasetName, datasetSize, description, imageHeight, imageWidth, randomOrientation, CVPercentage, TestSetPercentage\"\n",
    "\"FROM profiles_old\")"
   ]
  },
  {
   "cell_type": "code",
   "execution_count": 6,
   "id": "9763e723",
   "metadata": {},
   "outputs": [],
   "source": [
    "con.commit()\n",
    "con.close()"
   ]
  },
  {
   "cell_type": "code",
   "execution_count": 17,
   "id": "cf0ae1d8",
   "metadata": {},
   "outputs": [
    {
     "data": {
      "text/plain": [
       "<sqlite3.Cursor at 0x246ac30a740>"
      ]
     },
     "execution_count": 17,
     "metadata": {},
     "output_type": "execute_result"
    }
   ],
   "source": [
    "cur.execute(\"PRAGMA table_info(profiles_old)\")"
   ]
  },
  {
   "cell_type": "code",
   "execution_count": 18,
   "id": "03e1925a",
   "metadata": {},
   "outputs": [
    {
     "name": "stdout",
     "output_type": "stream",
     "text": [
      "[]\n"
     ]
    }
   ],
   "source": [
    "print(con.cursor().fetchall())"
   ]
  },
  {
   "cell_type": "code",
   "execution_count": 20,
   "id": "79653f35",
   "metadata": {},
   "outputs": [
    {
     "data": {
      "text/plain": [
       "<sqlite3.Cursor at 0x246ac30a740>"
      ]
     },
     "execution_count": 20,
     "metadata": {},
     "output_type": "execute_result"
    }
   ],
   "source": [
    "cur.execute(\"\"\"\n",
    "        INSERT INTO profiles (\n",
    "            value, datasetName, datasetSize, description,\n",
    "            imageHeight, imageWidth, randomOrientation, CVPercentage\n",
    "        )\n",
    "        SELECT \n",
    "            value, datasetName, datasetSize, description,\n",
    "            imageHeight, imageWidth, randomOrientation, CVPercentage\n",
    "        FROM profiles_old;\n",
    "    \"\"\")"
   ]
  },
  {
   "cell_type": "code",
   "execution_count": 21,
   "id": "fd0a7c28",
   "metadata": {},
   "outputs": [],
   "source": [
    "con.commit()"
   ]
  },
  {
   "cell_type": "code",
   "execution_count": 22,
   "id": "3bf1c8c6",
   "metadata": {},
   "outputs": [
    {
     "data": {
      "text/plain": [
       "<sqlite3.Cursor at 0x246ac30a740>"
      ]
     },
     "execution_count": 22,
     "metadata": {},
     "output_type": "execute_result"
    }
   ],
   "source": [
    "cur.execute(\"DROP TABLE profiles_old;\")"
   ]
  },
  {
   "cell_type": "code",
   "execution_count": 23,
   "id": "a1ac0a1a",
   "metadata": {},
   "outputs": [],
   "source": [
    "con.commit()"
   ]
  },
  {
   "cell_type": "code",
   "execution_count": 24,
   "id": "2d97e6d5",
   "metadata": {},
   "outputs": [
    {
     "data": {
      "text/plain": [
       "<sqlite3.Cursor at 0x246ac30a740>"
      ]
     },
     "execution_count": 24,
     "metadata": {},
     "output_type": "execute_result"
    }
   ],
   "source": [
    "cur.execute(\"\"\"\n",
    "        ALTER TABLE datasets ADD COLUMN split TEXT;\n",
    "\n",
    "\"\"\")"
   ]
  },
  {
   "cell_type": "code",
   "execution_count": 26,
   "id": "4cee6311",
   "metadata": {},
   "outputs": [],
   "source": [
    "con.commit()"
   ]
  },
  {
   "cell_type": "code",
   "execution_count": 49,
   "id": "7681150d",
   "metadata": {},
   "outputs": [],
   "source": [
    "cur.execute('DELETE FROM datasets WHERE value = ?', (\"4e9ecbf2-15-02-2025-1407-49\",))\n",
    "con.commit()"
   ]
  },
  {
   "cell_type": "code",
   "execution_count": 42,
   "id": "3bba1862",
   "metadata": {},
   "outputs": [
    {
     "data": {
      "text/plain": [
       "<sqlite3.Cursor at 0x246ac30a740>"
      ]
     },
     "execution_count": 42,
     "metadata": {},
     "output_type": "execute_result"
    }
   ],
   "source": [
    "cur.execute(\"INSERT INTO datasets (\"\n",
    "                \"value, \" \n",
    "                \"datasetName, \"\n",
    "                \"datasetSize, \"\n",
    "                \"description, \"\n",
    "                \"imageHeight, \"\n",
    "                \"imageWidth, \"\n",
    "                \"randomOrientation )\"\n",
    "                \"VALUES (?, ?, ?, ?, ?, ?, ?) ON CONFLICT(value) DO UPDATE SET \"\n",
    "                \"datasetName = excluded.datasetName, \"\n",
    "                \"datasetSize = excluded.datasetSize, \"\n",
    "                \"description = excluded.description, \"\n",
    "                \"imageHeight = excluded.imageHeight, \"\n",
    "                \"imageWidth = excluded.imageWidth, \"\n",
    "                \"randomOrientation = excluded.randomOrientation\",\n",
    "                (\"820990fd-21-05-2025-1631-11\", \n",
    "                \"DatasetProf2\", \n",
    "                1000, \n",
    "                \"Random orientation. Basic 500x500 dataset of 1000, will initially be used to test checkpoint loading. Test to check generator still works\", \n",
    "                500, \n",
    "                500, \n",
    "                1))"
   ]
  },
  {
   "cell_type": "code",
   "execution_count": 45,
   "id": "b5c03867",
   "metadata": {},
   "outputs": [],
   "source": [
    "con.commit()"
   ]
  },
  {
   "cell_type": "markdown",
   "id": "d3f73b63",
   "metadata": {},
   "source": [
    "## Creating tables for training runs and training data: "
   ]
  },
  {
   "cell_type": "code",
   "execution_count": 19,
   "id": "484de99f",
   "metadata": {},
   "outputs": [
    {
     "data": {
      "text/plain": [
       "<sqlite3.Cursor at 0x1e2d2a3e740>"
      ]
     },
     "execution_count": 19,
     "metadata": {},
     "output_type": "execute_result"
    }
   ],
   "source": [
    "cur.execute(\"\"\"CREATE TABLE training_runs (\n",
    "    id TEXT PRIMARY KEY,\n",
    "    model_id TEXT,\n",
    "    checkpoint TEXT,\n",
    "    training_dataset TEXT,\n",
    "    cv_dataset TEXT,\n",
    "    test_dataset TEXT,\n",
    "    optimiser TEXT,\n",
    "    loss_function TEXT,\n",
    "    learning_rate REAL,\n",
    "    epochs INTEGER,\n",
    "    session_id TEXT\n",
    ");\"\"\")"
   ]
  },
  {
   "cell_type": "code",
   "execution_count": 20,
   "id": "1238de50",
   "metadata": {},
   "outputs": [],
   "source": [
    "con.commit()"
   ]
  },
  {
   "cell_type": "code",
   "execution_count": 11,
   "id": "2d36933c",
   "metadata": {},
   "outputs": [
    {
     "data": {
      "text/plain": [
       "<sqlite3.Cursor at 0x1e2d2a3e740>"
      ]
     },
     "execution_count": 11,
     "metadata": {},
     "output_type": "execute_result"
    }
   ],
   "source": [
    "cur.execute(\"\"\"CREATE TABLE training_metrics (\n",
    "    run_id TEXT,\n",
    "    epoch INTEGER,\n",
    "    batch INTEGER,\n",
    "    loss REAL,\n",
    "    FOREIGN KEY(run_id) REFERENCES training_runs(id)\n",
    ");\"\"\")"
   ]
  },
  {
   "cell_type": "code",
   "execution_count": 12,
   "id": "c6eeb0ec",
   "metadata": {},
   "outputs": [],
   "source": [
    "con.commit()"
   ]
  },
  {
   "cell_type": "code",
   "execution_count": 17,
   "id": "9c03cdcc",
   "metadata": {},
   "outputs": [
    {
     "data": {
      "text/plain": [
       "<sqlite3.Cursor at 0x1e2d2a3e740>"
      ]
     },
     "execution_count": 17,
     "metadata": {},
     "output_type": "execute_result"
    }
   ],
   "source": [
    "cur.execute(\"\"\"DROP TABLE training_runs\"\"\")"
   ]
  },
  {
   "cell_type": "code",
   "execution_count": 18,
   "id": "7c79e077",
   "metadata": {},
   "outputs": [],
   "source": [
    "con.commit()"
   ]
  },
  {
   "cell_type": "markdown",
   "id": "32b4b6a4",
   "metadata": {},
   "source": [
    "Checkpoints table creation:"
   ]
  },
  {
   "cell_type": "code",
   "execution_count": 6,
   "id": "90c79aae",
   "metadata": {},
   "outputs": [
    {
     "data": {
      "text/plain": [
       "<sqlite3.Cursor at 0x1704e22a6c0>"
      ]
     },
     "execution_count": 6,
     "metadata": {},
     "output_type": "execute_result"
    }
   ],
   "source": [
    "cur.execute(\"\"\"CREATE TABLE checkpoints (\n",
    "    id TEXT PRIMARY KEY,\n",
    "    model_id TEXT,\n",
    "    training_run_id TEXT,\n",
    "    name TEXT,\n",
    "    notes TEXT,\n",
    "    final_loss REAL,\n",
    "    created_at TEXT,\n",
    "    FOREIGN KEY(model_id) REFERENCES models(value),\n",
    "    FOREIGN KEY(training_run_id) REFERENCES training_runs(id)\n",
    ");\"\"\")"
   ]
  },
  {
   "cell_type": "code",
   "execution_count": 7,
   "id": "2d9c2d2f",
   "metadata": {},
   "outputs": [],
   "source": []
  },
  {
   "cell_type": "code",
   "execution_count": 78,
   "id": "04d862cb",
   "metadata": {},
   "outputs": [],
   "source": [
    "res = cur.execute(\"\"\"\n",
    "            SELECT * FROM training_runs\n",
    "            ORDER BY id ASC\n",
    "        \"\"\")"
   ]
  },
  {
   "cell_type": "code",
   "execution_count": 79,
   "id": "de06b554",
   "metadata": {},
   "outputs": [],
   "source": [
    "row = res.fetchall()"
   ]
  },
  {
   "cell_type": "code",
   "execution_count": 80,
   "id": "93efcb9b",
   "metadata": {},
   "outputs": [],
   "source": [
    "runs_as_dicts = [dict(row) for row in row]"
   ]
  },
  {
   "cell_type": "code",
   "execution_count": 81,
   "id": "d750764c",
   "metadata": {},
   "outputs": [
    {
     "data": {
      "text/plain": [
       "[{'id': '52f898f6-18-06-2025-1317-23-train',\n",
       "  'model_id': '52f898f6',\n",
       "  'checkpoint': '17-06-2025-1211-07.pth',\n",
       "  'training_dataset': '820990fd-10-06-2025-1227-47-train',\n",
       "  'cv_dataset': None,\n",
       "  'test_dataset': None,\n",
       "  'optimiser': 'ADAM',\n",
       "  'loss_function': 'MSE',\n",
       "  'learning_rate': 0.001,\n",
       "  'epochs': 1,\n",
       "  'session_id': '18-06-2025-1317-23',\n",
       "  'batch_size': 20},\n",
       " {'id': '52f898f6-18-06-2025-1326-48-train',\n",
       "  'model_id': '52f898f6',\n",
       "  'checkpoint': '17-06-2025-1211-07.pth',\n",
       "  'training_dataset': '820990fd-10-06-2025-1227-47-CV',\n",
       "  'cv_dataset': None,\n",
       "  'test_dataset': None,\n",
       "  'optimiser': 'ADAM',\n",
       "  'loss_function': 'MSE',\n",
       "  'learning_rate': 0.001,\n",
       "  'epochs': 1,\n",
       "  'session_id': '18-06-2025-1326-48',\n",
       "  'batch_size': 20},\n",
       " {'id': '52f898f6-18-06-2025-1328-40-CV',\n",
       "  'model_id': '52f898f6',\n",
       "  'checkpoint': '18-06-2025-1309-52.pth',\n",
       "  'training_dataset': '820990fd-10-06-2025-1227-47-CV',\n",
       "  'cv_dataset': None,\n",
       "  'test_dataset': None,\n",
       "  'optimiser': None,\n",
       "  'loss_function': 'MSE',\n",
       "  'learning_rate': None,\n",
       "  'epochs': None,\n",
       "  'session_id': '18-06-2025-1328-40',\n",
       "  'batch_size': None},\n",
       " {'id': '52f898f6-18-06-2025-1330-25-CV',\n",
       "  'model_id': '52f898f6',\n",
       "  'checkpoint': '18-06-2025-1309-52.pth',\n",
       "  'training_dataset': '820990fd-10-06-2025-1227-47-CV',\n",
       "  'cv_dataset': None,\n",
       "  'test_dataset': None,\n",
       "  'optimiser': None,\n",
       "  'loss_function': 'MSE',\n",
       "  'learning_rate': None,\n",
       "  'epochs': None,\n",
       "  'session_id': '18-06-2025-1330-25',\n",
       "  'batch_size': None},\n",
       " {'id': '52f898f6-19-06-2025-1734-37-train',\n",
       "  'model_id': '52f898f6',\n",
       "  'checkpoint': '17-06-2025-1220-38.pth',\n",
       "  'training_dataset': '820990fd-10-06-2025-1227-47-train',\n",
       "  'cv_dataset': None,\n",
       "  'test_dataset': None,\n",
       "  'optimiser': 'ADAM',\n",
       "  'loss_function': 'MSE',\n",
       "  'learning_rate': 0.001,\n",
       "  'epochs': 1,\n",
       "  'session_id': '19-06-2025-1734-37',\n",
       "  'batch_size': 20},\n",
       " {'id': '52f898f6-20-06-2025-1231-10-train',\n",
       "  'model_id': '52f898f6',\n",
       "  'checkpoint': '18-06-2025-1326-56',\n",
       "  'training_dataset': '820990fd-10-06-2025-1227-47-train',\n",
       "  'cv_dataset': None,\n",
       "  'test_dataset': None,\n",
       "  'optimiser': 'ADAM',\n",
       "  'loss_function': 'MSE',\n",
       "  'learning_rate': 0.001,\n",
       "  'epochs': 2,\n",
       "  'session_id': '20-06-2025-1231-10',\n",
       "  'batch_size': 20},\n",
       " {'id': '52f898f6-23-06-2025-1322-40-CV',\n",
       "  'model_id': '52f898f6',\n",
       "  'checkpoint': '18-06-2025-1311-22.pth',\n",
       "  'training_dataset': '820990fd-10-06-2025-1227-47-CV',\n",
       "  'cv_dataset': None,\n",
       "  'test_dataset': None,\n",
       "  'optimiser': None,\n",
       "  'loss_function': 'MSE',\n",
       "  'learning_rate': None,\n",
       "  'epochs': None,\n",
       "  'session_id': '23-06-2025-1322-40',\n",
       "  'batch_size': None},\n",
       " {'id': '52f898f6-23-06-2025-1324-40-CV',\n",
       "  'model_id': '52f898f6',\n",
       "  'checkpoint': '12-06-2025-1200-49.pth',\n",
       "  'training_dataset': None,\n",
       "  'cv_dataset': '820990fd-10-06-2025-1227-47-CV',\n",
       "  'test_dataset': None,\n",
       "  'optimiser': None,\n",
       "  'loss_function': 'MSE',\n",
       "  'learning_rate': None,\n",
       "  'epochs': None,\n",
       "  'session_id': '23-06-2025-1324-40',\n",
       "  'batch_size': None},\n",
       " {'id': '52f898f6-26-06-2025-1146-01-train',\n",
       "  'model_id': '52f898f6',\n",
       "  'checkpoint': '',\n",
       "  'training_dataset': '820990fd-10-06-2025-1227-47-train',\n",
       "  'cv_dataset': None,\n",
       "  'test_dataset': None,\n",
       "  'optimiser': 'ADAM',\n",
       "  'loss_function': 'MSE',\n",
       "  'learning_rate': 0.001,\n",
       "  'epochs': 1,\n",
       "  'session_id': '26-06-2025-1146-01',\n",
       "  'batch_size': 20},\n",
       " {'id': '52f898f6-26-06-2025-1149-20-train',\n",
       "  'model_id': '52f898f6',\n",
       "  'checkpoint': '26-06-2025-1146-01',\n",
       "  'training_dataset': '820990fd-10-06-2025-1227-47-train',\n",
       "  'cv_dataset': None,\n",
       "  'test_dataset': None,\n",
       "  'optimiser': 'ADAM',\n",
       "  'loss_function': 'MSE',\n",
       "  'learning_rate': 0.001,\n",
       "  'epochs': 10,\n",
       "  'session_id': '26-06-2025-1149-20',\n",
       "  'batch_size': 20},\n",
       " {'id': '52f898f6-26-06-2025-1152-56-train',\n",
       "  'model_id': '52f898f6',\n",
       "  'checkpoint': '26-06-2025-1149-20',\n",
       "  'training_dataset': '820990fd-10-06-2025-1227-47-train',\n",
       "  'cv_dataset': None,\n",
       "  'test_dataset': None,\n",
       "  'optimiser': 'ADAM',\n",
       "  'loss_function': 'MSE',\n",
       "  'learning_rate': 0.001,\n",
       "  'epochs': 15,\n",
       "  'session_id': '26-06-2025-1152-56',\n",
       "  'batch_size': 4},\n",
       " {'id': '52f898f6-27-06-2025-1131-36-train',\n",
       "  'model_id': '52f898f6',\n",
       "  'checkpoint': '26-06-2025-1146-01',\n",
       "  'training_dataset': '820990fd-10-06-2025-1227-47-train',\n",
       "  'cv_dataset': None,\n",
       "  'test_dataset': None,\n",
       "  'optimiser': 'ADAM',\n",
       "  'loss_function': 'MSE',\n",
       "  'learning_rate': 0.001,\n",
       "  'epochs': 5,\n",
       "  'session_id': '27-06-2025-1131-36',\n",
       "  'batch_size': 20}]"
      ]
     },
     "execution_count": 81,
     "metadata": {},
     "output_type": "execute_result"
    }
   ],
   "source": [
    "runs_as_dicts = [ dict(row, row['id'])for ro in runs_as_dict]"
   ]
  },
  {
   "cell_type": "code",
   "execution_count": 24,
   "id": "d2b33480",
   "metadata": {},
   "outputs": [
    {
     "ename": "ValueError",
     "evalue": "dictionary update sequence element #0 has length 33; 2 is required",
     "output_type": "error",
     "traceback": [
      "\u001b[1;31m---------------------------------------------------------------------------\u001b[0m",
      "\u001b[1;31mValueError\u001b[0m                                Traceback (most recent call last)",
      "Cell \u001b[1;32mIn[24], line 1\u001b[0m\n\u001b[1;32m----> 1\u001b[0m runs_as_dicts \u001b[38;5;241m=\u001b[39m [\u001b[38;5;28mdict\u001b[39m(row) \u001b[38;5;28;01mfor\u001b[39;00m row \u001b[38;5;129;01min\u001b[39;00m rows]\n",
      "Cell \u001b[1;32mIn[24], line 1\u001b[0m, in \u001b[0;36m<listcomp>\u001b[1;34m(.0)\u001b[0m\n\u001b[1;32m----> 1\u001b[0m runs_as_dicts \u001b[38;5;241m=\u001b[39m [\u001b[38;5;28;43mdict\u001b[39;49m\u001b[43m(\u001b[49m\u001b[43mrow\u001b[49m\u001b[43m)\u001b[49m \u001b[38;5;28;01mfor\u001b[39;00m row \u001b[38;5;129;01min\u001b[39;00m rows]\n",
      "\u001b[1;31mValueError\u001b[0m: dictionary update sequence element #0 has length 33; 2 is required"
     ]
    }
   ],
   "source": []
  },
  {
   "cell_type": "code",
   "execution_count": 25,
   "id": "0f4183db",
   "metadata": {},
   "outputs": [],
   "source": [
    "con.row_factory = sqlite3.Row"
   ]
  },
  {
   "cell_type": "code",
   "execution_count": 26,
   "id": "849432df",
   "metadata": {},
   "outputs": [
    {
     "ename": "ValueError",
     "evalue": "dictionary update sequence element #0 has length 33; 2 is required",
     "output_type": "error",
     "traceback": [
      "\u001b[1;31m---------------------------------------------------------------------------\u001b[0m",
      "\u001b[1;31mValueError\u001b[0m                                Traceback (most recent call last)",
      "Cell \u001b[1;32mIn[26], line 1\u001b[0m\n\u001b[1;32m----> 1\u001b[0m runs_as_dicts \u001b[38;5;241m=\u001b[39m [\u001b[38;5;28mdict\u001b[39m(row) \u001b[38;5;28;01mfor\u001b[39;00m row \u001b[38;5;129;01min\u001b[39;00m rows]\n",
      "Cell \u001b[1;32mIn[26], line 1\u001b[0m, in \u001b[0;36m<listcomp>\u001b[1;34m(.0)\u001b[0m\n\u001b[1;32m----> 1\u001b[0m runs_as_dicts \u001b[38;5;241m=\u001b[39m [\u001b[38;5;28;43mdict\u001b[39;49m\u001b[43m(\u001b[49m\u001b[43mrow\u001b[49m\u001b[43m)\u001b[49m \u001b[38;5;28;01mfor\u001b[39;00m row \u001b[38;5;129;01min\u001b[39;00m rows]\n",
      "\u001b[1;31mValueError\u001b[0m: dictionary update sequence element #0 has length 33; 2 is required"
     ]
    }
   ],
   "source": [
    "runs_as_dicts = [dict(row) for row in rows]"
   ]
  },
  {
   "cell_type": "code",
   "execution_count": 34,
   "id": "a56d885d",
   "metadata": {},
   "outputs": [],
   "source": [
    "import json"
   ]
  },
  {
   "cell_type": "code",
   "execution_count": 35,
   "id": "b5b2fa16",
   "metadata": {},
   "outputs": [
    {
     "name": "stdout",
     "output_type": "stream",
     "text": [
      "[\n",
      "  {\n",
      "    \"id\": \"52f898f6-18-06-2025-1317-23-train\",\n",
      "    \"model_id\": \"52f898f6\",\n",
      "    \"checkpoint\": \"17-06-2025-1211-07.pth\",\n",
      "    \"training_dataset\": \"820990fd-10-06-2025-1227-47-train\",\n",
      "    \"cv_dataset\": null,\n",
      "    \"test_dataset\": null,\n",
      "    \"optimiser\": \"ADAM\",\n",
      "    \"loss_function\": \"MSE\",\n",
      "    \"learning_rate\": 0.001,\n",
      "    \"epochs\": 1,\n",
      "    \"session_id\": \"18-06-2025-1317-23\"\n",
      "  },\n",
      "  {\n",
      "    \"id\": \"52f898f6-18-06-2025-1326-48-train\",\n",
      "    \"model_id\": \"52f898f6\",\n",
      "    \"checkpoint\": \"17-06-2025-1211-07.pth\",\n",
      "    \"training_dataset\": \"820990fd-10-06-2025-1227-47-CV\",\n",
      "    \"cv_dataset\": null,\n",
      "    \"test_dataset\": null,\n",
      "    \"optimiser\": \"ADAM\",\n",
      "    \"loss_function\": \"MSE\",\n",
      "    \"learning_rate\": 0.001,\n",
      "    \"epochs\": 1,\n",
      "    \"session_id\": \"18-06-2025-1326-48\"\n",
      "  },\n",
      "  {\n",
      "    \"id\": \"52f898f6-18-06-2025-1328-40-CV\",\n",
      "    \"model_id\": \"52f898f6\",\n",
      "    \"checkpoint\": \"18-06-2025-1309-52.pth\",\n",
      "    \"training_dataset\": \"820990fd-10-06-2025-1227-47-CV\",\n",
      "    \"cv_dataset\": null,\n",
      "    \"test_dataset\": null,\n",
      "    \"optimiser\": null,\n",
      "    \"loss_function\": \"MSE\",\n",
      "    \"learning_rate\": null,\n",
      "    \"epochs\": null,\n",
      "    \"session_id\": \"18-06-2025-1328-40\"\n",
      "  },\n",
      "  {\n",
      "    \"id\": \"52f898f6-18-06-2025-1330-25-CV\",\n",
      "    \"model_id\": \"52f898f6\",\n",
      "    \"checkpoint\": \"18-06-2025-1309-52.pth\",\n",
      "    \"training_dataset\": \"820990fd-10-06-2025-1227-47-CV\",\n",
      "    \"cv_dataset\": null,\n",
      "    \"test_dataset\": null,\n",
      "    \"optimiser\": null,\n",
      "    \"loss_function\": \"MSE\",\n",
      "    \"learning_rate\": null,\n",
      "    \"epochs\": null,\n",
      "    \"session_id\": \"18-06-2025-1330-25\"\n",
      "  },\n",
      "  {\n",
      "    \"id\": \"52f898f6-19-06-2025-1734-37-train\",\n",
      "    \"model_id\": \"52f898f6\",\n",
      "    \"checkpoint\": \"17-06-2025-1220-38.pth\",\n",
      "    \"training_dataset\": \"820990fd-10-06-2025-1227-47-train\",\n",
      "    \"cv_dataset\": null,\n",
      "    \"test_dataset\": null,\n",
      "    \"optimiser\": \"ADAM\",\n",
      "    \"loss_function\": \"MSE\",\n",
      "    \"learning_rate\": 0.001,\n",
      "    \"epochs\": 1,\n",
      "    \"session_id\": \"19-06-2025-1734-37\"\n",
      "  }\n",
      "]\n"
     ]
    },
    {
     "ename": "NameError",
     "evalue": "name 'conn' is not defined",
     "output_type": "error",
     "traceback": [
      "\u001b[1;31m---------------------------------------------------------------------------\u001b[0m",
      "\u001b[1;31mNameError\u001b[0m                                 Traceback (most recent call last)",
      "Cell \u001b[1;32mIn[35], line 21\u001b[0m\n\u001b[0;32m     18\u001b[0m     \u001b[38;5;28mprint\u001b[39m(json\u001b[38;5;241m.\u001b[39mdumps({\u001b[38;5;124m\"\u001b[39m\u001b[38;5;124merror\u001b[39m\u001b[38;5;124m\"\u001b[39m: \u001b[38;5;28mstr\u001b[39m(e)}))\n\u001b[0;32m     20\u001b[0m \u001b[38;5;28;01mfinally\u001b[39;00m:\n\u001b[1;32m---> 21\u001b[0m     \u001b[43mconn\u001b[49m\u001b[38;5;241m.\u001b[39mclose()\n",
      "\u001b[1;31mNameError\u001b[0m: name 'conn' is not defined"
     ]
    }
   ],
   "source": [
    "try:\n",
    "\n",
    "        con.row_factory = sqlite3.Row  # enables name-based column access\n",
    "        cur = con.cursor()\n",
    "        cur.execute(\"PRAGMA foreign_keys = ON;\")\n",
    "\n",
    "        cur.execute(\"\"\"\n",
    "            SELECT * FROM training_runs\n",
    "            ORDER BY id ASC\n",
    "        \"\"\")\n",
    "\n",
    "        rows = cur.fetchall()\n",
    "        runs_as_dicts = [dict(row) for row in rows]\n",
    "        print(json.dumps(runs_as_dicts, indent=2))\n",
    "\n",
    "except sqlite3.Error as e:\n",
    "    print(\"Database error:\", e)\n",
    "    print(json.dumps({\"error\": str(e)}))\n",
    "\n",
    "finally:\n",
    "    conn.close()"
   ]
  },
  {
   "cell_type": "markdown",
   "id": "4b333d6a",
   "metadata": {},
   "source": [
    "fetching training run metrics:\n",
    "    "
   ]
  },
  {
   "cell_type": "code",
   "execution_count": 14,
   "id": "5ceeef17",
   "metadata": {},
   "outputs": [
    {
     "name": "stdout",
     "output_type": "stream",
     "text": [
      "[<sqlite3.Row object at 0x0000027A2B6C69B0>, <sqlite3.Row object at 0x0000027A2B6C73A0>, <sqlite3.Row object at 0x0000027A2B6C63E0>, <sqlite3.Row object at 0x0000027A2B56B8B0>, <sqlite3.Row object at 0x0000027A2A5065C0>, <sqlite3.Row object at 0x0000027A2B57DFF0>]\n",
      "[{'epoch': 1, 'batch': 20, 'loss': 0.03573734313249588}, {'epoch': 1, 'batch': 40, 'loss': 0.06227292865514755}, {'epoch': 1, 'batch': 60, 'loss': 0.017571741715073586}, {'epoch': 1, 'batch': 80, 'loss': 0.06135644018650055}, {'epoch': 1, 'batch': 100, 'loss': 0.03694869577884674}, {'epoch': 1, 'batch': 120, 'loss': 0.11462163180112839}]\n",
      "[{'step': 'E1-B20', 'loss': 0.03573734313249588}, {'step': 'E1-B40', 'loss': 0.06227292865514755}, {'step': 'E1-B60', 'loss': 0.017571741715073586}, {'step': 'E1-B80', 'loss': 0.06135644018650055}, {'step': 'E1-B100', 'loss': 0.03694869577884674}, {'step': 'E1-B120', 'loss': 0.11462163180112839}]\n"
     ]
    }
   ],
   "source": [
    "import json\n",
    "run_id = \"52f898f6-18-06-2025-1317-23-train\"\n",
    "try:\n",
    "    con.row_factory = sqlite3.Row  # enables name-based column access\n",
    "    cur = con.cursor()\n",
    "    cur.execute(\"PRAGMA foreign_keys = ON;\")\n",
    "\n",
    "    cur.execute(\"\"\"\n",
    "        SELECT epoch, batch, loss FROM training_metrics \n",
    "        WHERE run_id = ?\n",
    "        ORDER BY epoch ASC, batch ASC\n",
    "    \"\"\", (run_id,))\n",
    "\n",
    "    rows = cur.fetchall()\n",
    "    print(rows)\n",
    "    \n",
    "    metrics_as_dicts = [dict(row) for row in rows]\n",
    "    print(metrics_as_dicts)\n",
    "\n",
    "    rows_step = [{\"step\":f\"E{row['epoch']}-B{row['batch']}\", \"loss\":row['loss']} for row in metrics_as_dicts]\n",
    "    print(rows_step)\n",
    "\n",
    "except sqlite3.Error as e:\n",
    "    print(\"Database error:\", e)\n",
    "    print(json.dumps({\"error\": str(e)})) \n",
    "\n"
   ]
  },
  {
   "cell_type": "markdown",
   "id": "492d9ef6",
   "metadata": {},
   "source": [
    "## Checkpoint Training Tree:"
   ]
  },
  {
   "cell_type": "code",
   "execution_count": 35,
   "id": "5beb4938",
   "metadata": {},
   "outputs": [],
   "source": [
    "def training_tree(checkpoint_id):\n",
    "    training_runs_past = []\n",
    "    training_runs_future = []\n",
    "    MAX_DEPTH = 50\n",
    "    def past_training_runs_query(chkpt_id, depth=0):\n",
    "        cur = con.cursor()\n",
    "        if not chkpt_id.strip():\n",
    "            return\n",
    "        if depth > MAX_DEPTH:\n",
    "            print(\"Max recursion depth hit\")\n",
    "            return\n",
    "        try:\n",
    "            print(f\"Len == {len(training_runs_past)}\")\n",
    "            cur.execute(\"\"\"\n",
    "                SELECT * FROM training_runs\n",
    "                WHERE INSTR(id, ?) > 0\n",
    "            \"\"\", (chkpt_id,))\n",
    "                \n",
    "            rows = cur.fetchall()\n",
    "            runs_as_dict = [dict(row) for row in rows]\n",
    "            \n",
    "            if len(runs_as_dict) == 1:\n",
    "                \n",
    "                training_runs_past.append(runs_as_dict[0])\n",
    "                pprint.pprint(f\"Recursing: {chkpt_id}, depth: {depth},  row: \")\n",
    "                pprint.pprint(runs_as_dict)\n",
    "                past_training_runs_query(runs_as_dict[0]['checkpoint'], depth+1)\n",
    "                \n",
    "        except sqlite3.Error as e:\n",
    "            print(\"Database error:\", e)\n",
    "            return json.dumps({\"error\": str(e)})\n",
    "    \n",
    "    past_training_runs_query(checkpoint_id)\n",
    "    return training_runs_past"
   ]
  },
  {
   "cell_type": "code",
   "execution_count": 36,
   "id": "303548af",
   "metadata": {},
   "outputs": [
    {
     "name": "stdout",
     "output_type": "stream",
     "text": [
      "Len == 0\n",
      "'Recursing: 26-06-2025-1152-56, depth: 0,  row: '\n",
      "[{'checkpoint': '26-06-2025-1149-20',\n",
      "  'cv_dataset': None,\n",
      "  'epochs': 15,\n",
      "  'id': '52f898f6-26-06-2025-1152-56-train',\n",
      "  'learning_rate': 0.001,\n",
      "  'loss_function': 'MSE',\n",
      "  'model_id': '52f898f6',\n",
      "  'optimiser': 'ADAM',\n",
      "  'session_id': '26-06-2025-1152-56',\n",
      "  'test_dataset': None,\n",
      "  'training_dataset': '820990fd-10-06-2025-1227-47-train'}]\n",
      "Len == 1\n",
      "'Recursing: 26-06-2025-1149-20, depth: 1,  row: '\n",
      "[{'checkpoint': '26-06-2025-1146-01',\n",
      "  'cv_dataset': None,\n",
      "  'epochs': 10,\n",
      "  'id': '52f898f6-26-06-2025-1149-20-train',\n",
      "  'learning_rate': 0.001,\n",
      "  'loss_function': 'MSE',\n",
      "  'model_id': '52f898f6',\n",
      "  'optimiser': 'ADAM',\n",
      "  'session_id': '26-06-2025-1149-20',\n",
      "  'test_dataset': None,\n",
      "  'training_dataset': '820990fd-10-06-2025-1227-47-train'}]\n",
      "Len == 2\n",
      "'Recursing: 26-06-2025-1146-01, depth: 2,  row: '\n",
      "[{'checkpoint': '',\n",
      "  'cv_dataset': None,\n",
      "  'epochs': 1,\n",
      "  'id': '52f898f6-26-06-2025-1146-01-train',\n",
      "  'learning_rate': 0.001,\n",
      "  'loss_function': 'MSE',\n",
      "  'model_id': '52f898f6',\n",
      "  'optimiser': 'ADAM',\n",
      "  'session_id': '26-06-2025-1146-01',\n",
      "  'test_dataset': None,\n",
      "  'training_dataset': '820990fd-10-06-2025-1227-47-train'}]\n"
     ]
    }
   ],
   "source": [
    "ptr = training_tree(\"26-06-2025-1152-56\")"
   ]
  },
  {
   "cell_type": "code",
   "execution_count": 37,
   "id": "8ee364a0",
   "metadata": {},
   "outputs": [
    {
     "name": "stdout",
     "output_type": "stream",
     "text": [
      "[{'checkpoint': '26-06-2025-1149-20',\n",
      "  'cv_dataset': None,\n",
      "  'epochs': 15,\n",
      "  'id': '52f898f6-26-06-2025-1152-56-train',\n",
      "  'learning_rate': 0.001,\n",
      "  'loss_function': 'MSE',\n",
      "  'model_id': '52f898f6',\n",
      "  'optimiser': 'ADAM',\n",
      "  'session_id': '26-06-2025-1152-56',\n",
      "  'test_dataset': None,\n",
      "  'training_dataset': '820990fd-10-06-2025-1227-47-train'},\n",
      " {'checkpoint': '26-06-2025-1146-01',\n",
      "  'cv_dataset': None,\n",
      "  'epochs': 10,\n",
      "  'id': '52f898f6-26-06-2025-1149-20-train',\n",
      "  'learning_rate': 0.001,\n",
      "  'loss_function': 'MSE',\n",
      "  'model_id': '52f898f6',\n",
      "  'optimiser': 'ADAM',\n",
      "  'session_id': '26-06-2025-1149-20',\n",
      "  'test_dataset': None,\n",
      "  'training_dataset': '820990fd-10-06-2025-1227-47-train'},\n",
      " {'checkpoint': '',\n",
      "  'cv_dataset': None,\n",
      "  'epochs': 1,\n",
      "  'id': '52f898f6-26-06-2025-1146-01-train',\n",
      "  'learning_rate': 0.001,\n",
      "  'loss_function': 'MSE',\n",
      "  'model_id': '52f898f6',\n",
      "  'optimiser': 'ADAM',\n",
      "  'session_id': '26-06-2025-1146-01',\n",
      "  'test_dataset': None,\n",
      "  'training_dataset': '820990fd-10-06-2025-1227-47-train'}]\n"
     ]
    }
   ],
   "source": [
    "pprint.pprint(ptr)"
   ]
  },
  {
   "cell_type": "code",
   "execution_count": 2,
   "id": "51fb669f",
   "metadata": {},
   "outputs": [
    {
     "name": "stdout",
     "output_type": "stream",
     "text": [
      "[{'checkpoint': '17-06-2025-1211-07.pth',\n",
      "  'cv_dataset': None,\n",
      "  'epochs': 1,\n",
      "  'id': '52f898f6-18-06-2025-1317-23-train',\n",
      "  'learning_rate': 0.001,\n",
      "  'loss_function': 'MSE',\n",
      "  'model_id': '52f898f6',\n",
      "  'optimiser': 'ADAM',\n",
      "  'session_id': '18-06-2025-1317-23',\n",
      "  'test_dataset': None,\n",
      "  'training_dataset': '820990fd-10-06-2025-1227-47-train'},\n",
      " {'checkpoint': '17-06-2025-1211-07.pth',\n",
      "  'cv_dataset': None,\n",
      "  'epochs': 1,\n",
      "  'id': '52f898f6-18-06-2025-1326-48-train',\n",
      "  'learning_rate': 0.001,\n",
      "  'loss_function': 'MSE',\n",
      "  'model_id': '52f898f6',\n",
      "  'optimiser': 'ADAM',\n",
      "  'session_id': '18-06-2025-1326-48',\n",
      "  'test_dataset': None,\n",
      "  'training_dataset': '820990fd-10-06-2025-1227-47-CV'},\n",
      " {'checkpoint': '18-06-2025-1309-52.pth',\n",
      "  'cv_dataset': None,\n",
      "  'epochs': None,\n",
      "  'id': '52f898f6-18-06-2025-1328-40-CV',\n",
      "  'learning_rate': None,\n",
      "  'loss_function': 'MSE',\n",
      "  'model_id': '52f898f6',\n",
      "  'optimiser': None,\n",
      "  'session_id': '18-06-2025-1328-40',\n",
      "  'test_dataset': None,\n",
      "  'training_dataset': '820990fd-10-06-2025-1227-47-CV'},\n",
      " {'checkpoint': '18-06-2025-1309-52.pth',\n",
      "  'cv_dataset': None,\n",
      "  'epochs': None,\n",
      "  'id': '52f898f6-18-06-2025-1330-25-CV',\n",
      "  'learning_rate': None,\n",
      "  'loss_function': 'MSE',\n",
      "  'model_id': '52f898f6',\n",
      "  'optimiser': None,\n",
      "  'session_id': '18-06-2025-1330-25',\n",
      "  'test_dataset': None,\n",
      "  'training_dataset': '820990fd-10-06-2025-1227-47-CV'}]\n"
     ]
    }
   ],
   "source": [
    "import pprint\n",
    "chkpt_id = \"18-06\"\n",
    "try:\n",
    "#     cur.execute(\"\"\"\n",
    "#         SELECT * FROM training_runs\n",
    "#         WHERE checkpoint = ?\n",
    "#     \"\"\", (chkpt_id,))\n",
    "    cur.execute(\"\"\"\n",
    "        SELECT * FROM training_runs\n",
    "        WHERE INSTR(id, ?)\n",
    "    \"\"\", (chkpt_id,))\n",
    "    rows = cur.fetchall()\n",
    "    runs_as_dict = [dict(row) for row in rows]\n",
    "    pprint.pprint(runs_as_dict)\n",
    "\n",
    "except sqlite3.Error as e:\n",
    "    print(\"Database error:\", e)\n",
    "    "
   ]
  },
  {
   "cell_type": "code",
   "execution_count": 25,
   "id": "1a9b987f",
   "metadata": {},
   "outputs": [
    {
     "name": "stdout",
     "output_type": "stream",
     "text": [
      "3.10.9 | packaged by Anaconda, Inc. | (main, Mar  1 2023, 18:18:15) [MSC v.1916 64 bit (AMD64)]\n"
     ]
    }
   ],
   "source": [
    "import sys\n",
    "print(sys.version)"
   ]
  },
  {
   "cell_type": "code",
   "execution_count": 41,
   "id": "a28afdbe",
   "metadata": {},
   "outputs": [
    {
     "ename": "AttributeError",
     "evalue": "'str' object has no attribute 'findIndex'",
     "output_type": "error",
     "traceback": [
      "\u001b[1;31m---------------------------------------------------------------------------\u001b[0m",
      "\u001b[1;31mAttributeError\u001b[0m                            Traceback (most recent call last)",
      "Cell \u001b[1;32mIn[41], line 2\u001b[0m\n\u001b[0;32m      1\u001b[0m a \u001b[38;5;241m=\u001b[39m \u001b[38;5;124m\"\u001b[39m\u001b[38;5;124m52f898f6-26-06-2025-1152-56-train\u001b[39m\u001b[38;5;124m\"\u001b[39m\n\u001b[1;32m----> 2\u001b[0m \u001b[43ma\u001b[49m\u001b[38;5;241;43m.\u001b[39;49m\u001b[43mfindIndex\u001b[49m(\u001b[38;5;124m\"\u001b[39m\u001b[38;5;124m-\u001b[39m\u001b[38;5;124m\"\u001b[39m)\n",
      "\u001b[1;31mAttributeError\u001b[0m: 'str' object has no attribute 'findIndex'"
     ]
    }
   ],
   "source": [
    "a = \"52f898f6-26-06-2025-1152-56-train\"\n",
    "a.findIndex(\"-\")"
   ]
  },
  {
   "cell_type": "code",
   "execution_count": 49,
   "id": "26b1aba5",
   "metadata": {},
   "outputs": [
    {
     "data": {
      "text/plain": [
       "'26-06-2025-1152-56'"
      ]
     },
     "execution_count": 49,
     "metadata": {},
     "output_type": "execute_result"
    }
   ],
   "source": [
    "a[9:27]"
   ]
  },
  {
   "cell_type": "code",
   "execution_count": null,
   "id": "f357f73f",
   "metadata": {},
   "outputs": [],
   "source": []
  }
 ],
 "metadata": {
  "kernelspec": {
   "display_name": "Python 3 (ipykernel)",
   "language": "python",
   "name": "python3"
  },
  "language_info": {
   "codemirror_mode": {
    "name": "ipython",
    "version": 3
   },
   "file_extension": ".py",
   "mimetype": "text/x-python",
   "name": "python",
   "nbconvert_exporter": "python",
   "pygments_lexer": "ipython3",
   "version": "3.10.9"
  }
 },
 "nbformat": 4,
 "nbformat_minor": 5
}
