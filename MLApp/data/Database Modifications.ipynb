{
 "cells": [
  {
   "cell_type": "code",
   "execution_count": 4,
   "id": "a70d7f19",
   "metadata": {},
   "outputs": [],
   "source": [
    "import sqlite3"
   ]
  },
  {
   "cell_type": "code",
   "execution_count": 5,
   "id": "31c98435",
   "metadata": {},
   "outputs": [],
   "source": [
    "DATABASE_PATH = \"data.db\""
   ]
  },
  {
   "cell_type": "code",
   "execution_count": 7,
   "id": "e9ea1c67",
   "metadata": {},
   "outputs": [],
   "source": [
    "con = sqlite3.connect(DATABASE_PATH)"
   ]
  },
  {
   "cell_type": "code",
   "execution_count": 8,
   "id": "896586f8",
   "metadata": {},
   "outputs": [],
   "source": [
    "cur = con.cursor()"
   ]
  },
  {
   "cell_type": "markdown",
   "id": "20d83fda",
   "metadata": {},
   "source": [
    "backed up profiles old:"
   ]
  },
  {
   "cell_type": "code",
   "execution_count": 6,
   "id": "d0a56f72",
   "metadata": {},
   "outputs": [
    {
     "data": {
      "text/plain": [
       "<sqlite3.Cursor at 0x246ac30a740>"
      ]
     },
     "execution_count": 6,
     "metadata": {},
     "output_type": "execute_result"
    }
   ],
   "source": [
    "cur.execute(\"ALTER TABLE profiles RENAME TO profiles_old\")\n"
   ]
  },
  {
   "cell_type": "code",
   "execution_count": 9,
   "id": "444d1ec1",
   "metadata": {},
   "outputs": [
    {
     "data": {
      "text/plain": [
       "<sqlite3.Cursor at 0x246ac30a740>"
      ]
     },
     "execution_count": 9,
     "metadata": {},
     "output_type": "execute_result"
    }
   ],
   "source": [
    "cur.execute(\"CREATE TABLE profiles(\"\n",
    "            \"value TEXT PRIMARY KEY,\"\n",
    "            \"datasetName TEXT,\"\n",
    "            \"datasetSize INTEGER,\"\n",
    "            \"description TEXT,\"\n",
    "            \"imageHeight INTEGER,\"\n",
    "            \"imageWidth INTEGER,\"\n",
    "            \"randomOrientation TEXT,\"\n",
    "            \"CVPercentage INTEGER,\"\n",
    "            \"TestSetPercentage INTEGER)\")"
   ]
  },
  {
   "cell_type": "code",
   "execution_count": 10,
   "id": "400f8656",
   "metadata": {},
   "outputs": [
    {
     "ename": "OperationalError",
     "evalue": "no such column: value",
     "output_type": "error",
     "traceback": [
      "\u001b[1;31m---------------------------------------------------------------------------\u001b[0m",
      "\u001b[1;31mOperationalError\u001b[0m                          Traceback (most recent call last)",
      "Cell \u001b[1;32mIn[10], line 1\u001b[0m\n\u001b[1;32m----> 1\u001b[0m \u001b[43mcur\u001b[49m\u001b[38;5;241;43m.\u001b[39;49m\u001b[43mexecute\u001b[49m\u001b[43m(\u001b[49m\u001b[38;5;124;43m\"\u001b[39;49m\u001b[38;5;124;43mINSERT INTO profiles (value, datasetName, datasetSize, description, imageHeight, imageWidth, randomOrientation, CVPercentage, TestSetPercentage)\u001b[39;49m\u001b[38;5;124;43m\"\u001b[39;49m\n\u001b[0;32m      2\u001b[0m \u001b[38;5;124;43m\"\u001b[39;49m\u001b[38;5;124;43mSELECT value, datasetName, datasetSize, description, imageHeight, imageWidth, randomOrientation, CVPercentage, TestSetPercentage\u001b[39;49m\u001b[38;5;124;43m\"\u001b[39;49m\n\u001b[0;32m      3\u001b[0m \u001b[38;5;124;43m\"\u001b[39;49m\u001b[38;5;124;43mFROM profiles_old\u001b[39;49m\u001b[38;5;124;43m\"\u001b[39;49m\u001b[43m)\u001b[49m\n",
      "\u001b[1;31mOperationalError\u001b[0m: no such column: value"
     ]
    }
   ],
   "source": [
    "cur.execute(\"INSERT INTO profiles (value, datasetName, datasetSize, description, imageHeight, imageWidth, randomOrientation, CVPercentage, TestSetPercentage)\"\n",
    "\"SELECT value, datasetName, datasetSize, description, imageHeight, imageWidth, randomOrientation, CVPercentage, TestSetPercentage\"\n",
    "\"FROM profiles_old\")"
   ]
  },
  {
   "cell_type": "code",
   "execution_count": 6,
   "id": "9763e723",
   "metadata": {},
   "outputs": [],
   "source": [
    "con.commit()\n",
    "con.close()"
   ]
  },
  {
   "cell_type": "code",
   "execution_count": 17,
   "id": "cf0ae1d8",
   "metadata": {},
   "outputs": [
    {
     "data": {
      "text/plain": [
       "<sqlite3.Cursor at 0x246ac30a740>"
      ]
     },
     "execution_count": 17,
     "metadata": {},
     "output_type": "execute_result"
    }
   ],
   "source": [
    "cur.execute(\"PRAGMA table_info(profiles_old)\")"
   ]
  },
  {
   "cell_type": "code",
   "execution_count": 18,
   "id": "03e1925a",
   "metadata": {},
   "outputs": [
    {
     "name": "stdout",
     "output_type": "stream",
     "text": [
      "[]\n"
     ]
    }
   ],
   "source": [
    "print(con.cursor().fetchall())"
   ]
  },
  {
   "cell_type": "code",
   "execution_count": 20,
   "id": "79653f35",
   "metadata": {},
   "outputs": [
    {
     "data": {
      "text/plain": [
       "<sqlite3.Cursor at 0x246ac30a740>"
      ]
     },
     "execution_count": 20,
     "metadata": {},
     "output_type": "execute_result"
    }
   ],
   "source": [
    "cur.execute(\"\"\"\n",
    "        INSERT INTO profiles (\n",
    "            value, datasetName, datasetSize, description,\n",
    "            imageHeight, imageWidth, randomOrientation, CVPercentage\n",
    "        )\n",
    "        SELECT \n",
    "            value, datasetName, datasetSize, description,\n",
    "            imageHeight, imageWidth, randomOrientation, CVPercentage\n",
    "        FROM profiles_old;\n",
    "    \"\"\")"
   ]
  },
  {
   "cell_type": "code",
   "execution_count": 21,
   "id": "fd0a7c28",
   "metadata": {},
   "outputs": [],
   "source": [
    "con.commit()"
   ]
  },
  {
   "cell_type": "code",
   "execution_count": 22,
   "id": "3bf1c8c6",
   "metadata": {},
   "outputs": [
    {
     "data": {
      "text/plain": [
       "<sqlite3.Cursor at 0x246ac30a740>"
      ]
     },
     "execution_count": 22,
     "metadata": {},
     "output_type": "execute_result"
    }
   ],
   "source": [
    "cur.execute(\"DROP TABLE profiles_old;\")"
   ]
  },
  {
   "cell_type": "code",
   "execution_count": 23,
   "id": "a1ac0a1a",
   "metadata": {},
   "outputs": [],
   "source": [
    "con.commit()"
   ]
  },
  {
   "cell_type": "code",
   "execution_count": 24,
   "id": "2d97e6d5",
   "metadata": {},
   "outputs": [
    {
     "data": {
      "text/plain": [
       "<sqlite3.Cursor at 0x246ac30a740>"
      ]
     },
     "execution_count": 24,
     "metadata": {},
     "output_type": "execute_result"
    }
   ],
   "source": [
    "cur.execute(\"\"\"\n",
    "        ALTER TABLE datasets ADD COLUMN split TEXT;\n",
    "\n",
    "\"\"\")"
   ]
  },
  {
   "cell_type": "code",
   "execution_count": 26,
   "id": "4cee6311",
   "metadata": {},
   "outputs": [],
   "source": [
    "con.commit()"
   ]
  },
  {
   "cell_type": "code",
   "execution_count": 49,
   "id": "7681150d",
   "metadata": {},
   "outputs": [],
   "source": [
    "cur.execute('DELETE FROM datasets WHERE value = ?', (\"4e9ecbf2-15-02-2025-1407-49\",))\n",
    "con.commit()"
   ]
  },
  {
   "cell_type": "code",
   "execution_count": 42,
   "id": "3bba1862",
   "metadata": {},
   "outputs": [
    {
     "data": {
      "text/plain": [
       "<sqlite3.Cursor at 0x246ac30a740>"
      ]
     },
     "execution_count": 42,
     "metadata": {},
     "output_type": "execute_result"
    }
   ],
   "source": [
    "cur.execute(\"INSERT INTO datasets (\"\n",
    "                \"value, \" \n",
    "                \"datasetName, \"\n",
    "                \"datasetSize, \"\n",
    "                \"description, \"\n",
    "                \"imageHeight, \"\n",
    "                \"imageWidth, \"\n",
    "                \"randomOrientation )\"\n",
    "                \"VALUES (?, ?, ?, ?, ?, ?, ?) ON CONFLICT(value) DO UPDATE SET \"\n",
    "                \"datasetName = excluded.datasetName, \"\n",
    "                \"datasetSize = excluded.datasetSize, \"\n",
    "                \"description = excluded.description, \"\n",
    "                \"imageHeight = excluded.imageHeight, \"\n",
    "                \"imageWidth = excluded.imageWidth, \"\n",
    "                \"randomOrientation = excluded.randomOrientation\",\n",
    "                (\"820990fd-21-05-2025-1631-11\", \n",
    "                \"DatasetProf2\", \n",
    "                1000, \n",
    "                \"Random orientation. Basic 500x500 dataset of 1000, will initially be used to test checkpoint loading. Test to check generator still works\", \n",
    "                500, \n",
    "                500, \n",
    "                1))"
   ]
  },
  {
   "cell_type": "code",
   "execution_count": 45,
   "id": "b5c03867",
   "metadata": {},
   "outputs": [],
   "source": [
    "con.commit()"
   ]
  },
  {
   "cell_type": "markdown",
   "id": "d3f73b63",
   "metadata": {},
   "source": [
    "## Creating tables for training runs and training data: "
   ]
  },
  {
   "cell_type": "code",
   "execution_count": 19,
   "id": "484de99f",
   "metadata": {},
   "outputs": [
    {
     "data": {
      "text/plain": [
       "<sqlite3.Cursor at 0x1e2d2a3e740>"
      ]
     },
     "execution_count": 19,
     "metadata": {},
     "output_type": "execute_result"
    }
   ],
   "source": [
    "cur.execute(\"\"\"CREATE TABLE training_runs (\n",
    "    id TEXT PRIMARY KEY,\n",
    "    model_id TEXT,\n",
    "    checkpoint TEXT,\n",
    "    training_dataset TEXT,\n",
    "    cv_dataset TEXT,\n",
    "    test_dataset TEXT,\n",
    "    optimiser TEXT,\n",
    "    loss_function TEXT,\n",
    "    learning_rate REAL,\n",
    "    epochs INTEGER,\n",
    "    session_id TEXT\n",
    ");\"\"\")"
   ]
  },
  {
   "cell_type": "code",
   "execution_count": 20,
   "id": "1238de50",
   "metadata": {},
   "outputs": [],
   "source": [
    "con.commit()"
   ]
  },
  {
   "cell_type": "code",
   "execution_count": 11,
   "id": "2d36933c",
   "metadata": {},
   "outputs": [
    {
     "data": {
      "text/plain": [
       "<sqlite3.Cursor at 0x1e2d2a3e740>"
      ]
     },
     "execution_count": 11,
     "metadata": {},
     "output_type": "execute_result"
    }
   ],
   "source": [
    "cur.execute(\"\"\"CREATE TABLE training_metrics (\n",
    "    run_id TEXT,\n",
    "    epoch INTEGER,\n",
    "    batch INTEGER,\n",
    "    loss REAL,\n",
    "    FOREIGN KEY(run_id) REFERENCES training_runs(id)\n",
    ");\"\"\")"
   ]
  },
  {
   "cell_type": "code",
   "execution_count": 12,
   "id": "c6eeb0ec",
   "metadata": {},
   "outputs": [],
   "source": [
    "con.commit()"
   ]
  },
  {
   "cell_type": "code",
   "execution_count": 17,
   "id": "9c03cdcc",
   "metadata": {},
   "outputs": [
    {
     "data": {
      "text/plain": [
       "<sqlite3.Cursor at 0x1e2d2a3e740>"
      ]
     },
     "execution_count": 17,
     "metadata": {},
     "output_type": "execute_result"
    }
   ],
   "source": [
    "cur.execute(\"\"\"DROP TABLE training_runs\"\"\")"
   ]
  },
  {
   "cell_type": "code",
   "execution_count": 18,
   "id": "7c79e077",
   "metadata": {},
   "outputs": [],
   "source": [
    "con.commit()"
   ]
  },
  {
   "cell_type": "code",
   "execution_count": null,
   "id": "ce20c747",
   "metadata": {},
   "outputs": [],
   "source": []
  }
 ],
 "metadata": {
  "kernelspec": {
   "display_name": "Python 3 (ipykernel)",
   "language": "python",
   "name": "python3"
  },
  "language_info": {
   "codemirror_mode": {
    "name": "ipython",
    "version": 3
   },
   "file_extension": ".py",
   "mimetype": "text/x-python",
   "name": "python",
   "nbconvert_exporter": "python",
   "pygments_lexer": "ipython3",
   "version": "3.10.9"
  }
 },
 "nbformat": 4,
 "nbformat_minor": 5
}
