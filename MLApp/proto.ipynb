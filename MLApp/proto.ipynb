{
 "cells": [
  {
   "cell_type": "code",
   "execution_count": 1,
   "id": "50eab708",
   "metadata": {},
   "outputs": [],
   "source": [
    "import os\n",
    "import json\n",
    "import matplotlib.pyplot as plt\n",
    "import matplotlib.image as mpimg\n",
    "from PIL import Image\n",
    "\n",
    "import torch\n",
    "from torchvision import transforms\n",
    "from torch.utils.data import DataLoader\n",
    "\n",
    "from data_generator.prop_generator import write_props_json\n",
    "from blender_scripts.blender_launcher import launch_blender\n",
    "\n",
    "from parameters import BATCH_SIZE, train_dir, val_dir, test_dir\n",
    "from parameters import TRAINING_SET_SIZE, VALIDATION_SET_SIZE, TEST_SET_SIZE\n",
    "from parameters import render_data_script, state_dict_path, state_dict_dir\n",
    "from parameters import device\n",
    "from custom_nn.custom_nn import Net, image_dataset\n",
    "\n",
    "from custom_nn.target_loader import target_loader\n",
    "from custom_nn.train import train\n",
    "from custom_nn.test import test\n",
    "from utils.utils import compare_images, load_from_dir, select_image_dir\n"
   ]
  },
  {
   "cell_type": "code",
   "execution_count": 2,
   "id": "2c40776f",
   "metadata": {
    "scrolled": true
   },
   "outputs": [
    {
     "name": "stdout",
     "output_type": "stream",
     "text": [
      "C:\\Users\\liom1\\Documents\\projects\\ML\\blenderML\n"
     ]
    },
    {
     "data": {
      "text/plain": [
       "'city.exr'"
      ]
     },
     "execution_count": 2,
     "metadata": {},
     "output_type": "execute_result"
    }
   ],
   "source": [
    "print(os.getcwd())\n",
    "skybox_list = os.listdir(\"blender_files\\Backgrounds\")\n",
    "skybox_list[0]"
   ]
  },
  {
   "cell_type": "code",
   "execution_count": 3,
   "id": "dd4ce7aa",
   "metadata": {
    "scrolled": true
   },
   "outputs": [
    {
     "data": {
      "text/plain": [
       "['city.exr',\n",
       " 'courtyard.exr',\n",
       " 'forest.exr',\n",
       " 'hayloft_4k.exr',\n",
       " 'interior.exr',\n",
       " 'night.exr',\n",
       " 'studio.exr',\n",
       " 'sunrise.exr',\n",
       " 'sunset.exr']"
      ]
     },
     "execution_count": 3,
     "metadata": {},
     "output_type": "execute_result"
    }
   ],
   "source": [
    "skybox_list"
   ]
  },
  {
   "cell_type": "code",
   "execution_count": 3,
   "id": "96f3a0e0",
   "metadata": {
    "scrolled": false
   },
   "outputs": [
    {
     "name": "stdout",
     "output_type": "stream",
     "text": [
      "0 city.exr\n",
      "1 courtyard.exr\n",
      "2 forest.exr\n",
      "3 hayloft_4k.exr\n",
      "4 interior.exr\n",
      "5 night.exr\n",
      "6 studio.exr\n",
      "7 sunrise.exr\n",
      "8 sunset.exr\n"
     ]
    }
   ],
   "source": [
    "for i, sky in enumerate(skybox_list):\n",
    "    print(i, sky)"
   ]
  },
  {
   "cell_type": "code",
   "execution_count": 4,
   "id": "c62b87ef",
   "metadata": {},
   "outputs": [
    {
     "name": "stdout",
     "output_type": "stream",
     "text": [
      "Which state dict did you want to load?10\n",
      "Invalid option, please try again\n",
      "Which state dict did you want to load?l\n",
      "Invalid option, please try again\n",
      "Which state dict did you want to load?asdfj ia\n",
      "Invalid option, please try again\n",
      "Which state dict did you want to load?0\n",
      "skybox_path set to: city.exr\n"
     ]
    }
   ],
   "source": [
    "\n",
    "\n",
    "state_dict_path = \"\"\n",
    "while True:\n",
    "    try:\n",
    "        state_dict_path = skybox_list[int(input(\"Which state dict did you want to load?\"))]\n",
    "        break\n",
    "    except:\n",
    "        print(\"Invalid option, please try again\")\n",
    "print(\"skybox_path set to: \" + state_dict_path)        "
   ]
  },
  {
   "cell_type": "code",
   "execution_count": null,
   "id": "f2bf0a2f",
   "metadata": {},
   "outputs": [],
   "source": [
    "transform = transforms.Compose([transforms.ToTensor(),transforms.Normalize((0.5,0.5,0.5), (0.5,0.5,0.5))])\n",
    "\n",
    "\n",
    "val_targets=target_loader(val_dir) \n",
    "val_data_set = image_dataset('data\\\\test\\\\renders',val_targets,transform=transform)\n",
    "#subset_val = [val_data_set[i] for i in range(10)]\n",
    "#print(f\"{val_data_set[:10]=}\")\n",
    "#val_data_loader = DataLoader(subset_val, batch_size=1, shuffle=False)"
   ]
  },
  {
   "cell_type": "code",
   "execution_count": null,
   "id": "9d92dcae",
   "metadata": {},
   "outputs": [],
   "source": [
    "model = Net()\n",
    "model.to(device)\n",
    "model.load_state_dict(torch.load(state_dict_path))"
   ]
  },
  {
   "cell_type": "code",
   "execution_count": null,
   "id": "9e6e241c",
   "metadata": {},
   "outputs": [],
   "source": [
    "val_sub_set = val_data_set[:10]"
   ]
  },
  {
   "cell_type": "code",
   "execution_count": null,
   "id": "9ef7127a",
   "metadata": {},
   "outputs": [],
   "source": []
  },
  {
   "cell_type": "code",
   "execution_count": null,
   "id": "8c12c8c7",
   "metadata": {},
   "outputs": [],
   "source": [
    "val_sub_set_loader = DataLoader(val_sub_set, batch_size=1, shuffle=False)"
   ]
  },
  {
   "cell_type": "code",
   "execution_count": null,
   "id": "fcbf356b",
   "metadata": {},
   "outputs": [],
   "source": [
    "b = [a for a in enumerate(val_sub_set_loader)]\n",
    "   "
   ]
  },
  {
   "cell_type": "code",
   "execution_count": null,
   "id": "0c1de1ab",
   "metadata": {},
   "outputs": [],
   "source": [
    "predictions = test(model, val_sub_set_loader)"
   ]
  },
  {
   "cell_type": "code",
   "execution_count": null,
   "id": "4ca3eaeb",
   "metadata": {
    "scrolled": true
   },
   "outputs": [],
   "source": [
    "predictions"
   ]
  },
  {
   "cell_type": "code",
   "execution_count": null,
   "id": "c3c41761",
   "metadata": {},
   "outputs": [],
   "source": [
    "write_props_json(\"data\\\\val\\\\pred\",predictions)"
   ]
  },
  {
   "cell_type": "code",
   "execution_count": null,
   "id": "3a26b710",
   "metadata": {
    "scrolled": false
   },
   "outputs": [],
   "source": [
    "launch_blender(data=val_dir+\"\\\\pred\", script=render_data_script)"
   ]
  },
  {
   "cell_type": "code",
   "execution_count": null,
   "id": "cc1508a4",
   "metadata": {},
   "outputs": [],
   "source": [
    "def numpy_max_min(image):\n",
    "    #image = image.cpu().numpy().transpose((1,2,0))\n",
    "    return ((image - image.min()) / (image.max() - image.min()))"
   ]
  },
  {
   "cell_type": "code",
   "execution_count": null,
   "id": "519adca1",
   "metadata": {},
   "outputs": [],
   "source": [
    "def numpy_max_min(image):\n",
    "    #image = image.cpu().numpy().transpose((1,2,0))\n",
    "    return ((image - image.min()) / (image.max() - image.min()))"
   ]
  },
  {
   "cell_type": "code",
   "execution_count": null,
   "id": "e2157040",
   "metadata": {},
   "outputs": [],
   "source": [
    "pred_render_paths = os.listdir(val_dir+\"\\\\pred\\\\renders\")"
   ]
  },
  {
   "cell_type": "code",
   "execution_count": null,
   "id": "0a907443",
   "metadata": {},
   "outputs": [],
   "source": [
    "pred_render_imgs = []\n",
    "for image_file in pred_render_paths:\n",
    "    pred_render_imgs.append(mpimg.imread(os.path.join(val_dir+\"\\\\pr=ed\\\\renders\",image_file)))"
   ]
  },
  {
   "cell_type": "code",
   "execution_count": null,
   "id": "caffacf8",
   "metadata": {},
   "outputs": [],
   "source": [
    "dir_list = {}\n",
    "with os.scandir(val_dir+\"\\\\pred\\\\renders\") as dir_contents:\n",
    "    for ind, entry in enumerate(dir_contents):\n",
    "        if entry.is_dir():\n",
    "            dir_list.update({ind : entry.name})\n",
    "selection = int(input(f'Which dir would you like to chose? {dir_list}'))\n",
    "selected_dir = dir_list[selection]\n",
    "selected_dir"
   ]
  },
  {
   "cell_type": "code",
   "execution_count": null,
   "id": "00294206",
   "metadata": {},
   "outputs": [],
   "source": []
  },
  {
   "cell_type": "code",
   "execution_count": null,
   "id": "39d098b6",
   "metadata": {
    "scrolled": true
   },
   "outputs": [],
   "source": [
    "val_sub_set[0][0].cpu()"
   ]
  },
  {
   "cell_type": "code",
   "execution_count": null,
   "id": "2727004e",
   "metadata": {},
   "outputs": [],
   "source": [
    "fig, axes = plt.subplots(len(pred_render_imgs), 2, figsize=(10, 2 * len(pred_render_imgs)))\n",
    "\n",
    "for i in range(len(pred_render_imgs)):\n",
    "    axes[i, 0].imshow(numpy_max_min_tf(val_sub_set[i][0]), aspect='equal')\n",
    "    axes[i, 0].set_title(\"X\")\n",
    "    axes[i, 0].axis(\"off\")\n",
    "\n",
    "    axes[i, 1].imshow(numpy_max_min(pred_render_imgs[i]), aspect='equal')\n",
    "    axes[i, 1].set_title(\"Y\")\n",
    "    axes[i, 1].axis(\"off\")"
   ]
  },
  {
   "cell_type": "code",
   "execution_count": null,
   "id": "b8bdac7e",
   "metadata": {},
   "outputs": [],
   "source": [
    "transform = transforms.Compose([transforms.ToTensor(),transforms.Normalize((0.5,0.5,0.5), (0.5,0.5,0.5))])\n",
    "\n",
    "#train_targets = target_loader(train_dir)\n",
    "#train_data_set = image_dataset('data\\\\train\\\\renders',train_targets,transform=transform)\n",
    "#train_data_loader = DataLoader(train_data_set, batch_size=BATCH_SIZE, shuffle=True)\n",
    "\n",
    "val_targets=target_loader(val_dir) \n",
    "val_data_set = image_dataset('data\\\\test\\\\renders',val_targets,transform=transform)\n",
    "#val_data_loader = DataLoader(val_data_set, batch_size=1, shuffle=False)\n",
    "\n",
    "# load neural net, define loss and optimizer\n",
    "\n",
    "model = Net()\n",
    "model.to(device)\n",
    "model.load_state_dict(torch.load(state_dict_path))\n",
    "\n",
    "\n",
    "# train nn on train props\n",
    "\n",
    "#train(model, data_loader=train_data_loader)\n",
    "\n",
    "# test nn on test props\n",
    "val_sub_set = val_data_set[:10]\n",
    "val_sub_set_loader = DataLoader(val_sub_set, batch_size=1, shuffle=False)\n",
    "\n",
    "val_sub_set_predictions = test(model, val_sub_set_loader)\n",
    "write_props_json(\"data\\\\val\\\\pred\",val_sub_set_predictions)\n",
    "launch_blender(data=val_dir+\"\\\\pred\", script=render_data_script)\n",
    "\n",
    "pred_render_dir = select_image_dir(val_dir+\"\\\\pred\\\\renders\")\n",
    "#pred_render_paths = os.listdir(render_dir)\n"
   ]
  },
  {
   "cell_type": "code",
   "execution_count": null,
   "id": "c38e1f61",
   "metadata": {},
   "outputs": [],
   "source": [
    "print(f\"{pred_render_dir}\")"
   ]
  },
  {
   "cell_type": "code",
   "execution_count": null,
   "id": "8cfd113d",
   "metadata": {},
   "outputs": [],
   "source": [
    "pred_render_images = load_from_dir(pred_render_dir)"
   ]
  },
  {
   "cell_type": "code",
   "execution_count": null,
   "id": "64ee4c48",
   "metadata": {},
   "outputs": [],
   "source": [
    "compare_images(pred_render_images,val_sub_set)\n"
   ]
  },
  {
   "cell_type": "code",
   "execution_count": null,
   "id": "bc669869",
   "metadata": {},
   "outputs": [],
   "source": []
  }
 ],
 "metadata": {
  "kernelspec": {
   "display_name": "Python 3 (ipykernel)",
   "language": "python",
   "name": "python3"
  },
  "language_info": {
   "codemirror_mode": {
    "name": "ipython",
    "version": 3
   },
   "file_extension": ".py",
   "mimetype": "text/x-python",
   "name": "python",
   "nbconvert_exporter": "python",
   "pygments_lexer": "ipython3",
   "version": "3.10.9"
  }
 },
 "nbformat": 4,
 "nbformat_minor": 5
}
