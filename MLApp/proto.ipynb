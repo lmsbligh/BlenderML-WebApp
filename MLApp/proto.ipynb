{
 "cells": [
  {
   "cell_type": "code",
   "execution_count": 1,
   "id": "50eab708",
   "metadata": {},
   "outputs": [
    {
     "ename": "ModuleNotFoundError",
     "evalue": "No module named 'MLApp'",
     "output_type": "error",
     "traceback": [
      "\u001b[1;31m---------------------------------------------------------------------------\u001b[0m",
      "\u001b[1;31mModuleNotFoundError\u001b[0m                       Traceback (most recent call last)",
      "Cell \u001b[1;32mIn[1], line 11\u001b[0m\n\u001b[0;32m      8\u001b[0m \u001b[38;5;28;01mfrom\u001b[39;00m \u001b[38;5;21;01mtorchvision\u001b[39;00m \u001b[38;5;28;01mimport\u001b[39;00m transforms\n\u001b[0;32m      9\u001b[0m \u001b[38;5;28;01mfrom\u001b[39;00m \u001b[38;5;21;01mtorch\u001b[39;00m\u001b[38;5;21;01m.\u001b[39;00m\u001b[38;5;21;01mutils\u001b[39;00m\u001b[38;5;21;01m.\u001b[39;00m\u001b[38;5;21;01mdata\u001b[39;00m \u001b[38;5;28;01mimport\u001b[39;00m DataLoader\n\u001b[1;32m---> 11\u001b[0m \u001b[38;5;28;01mfrom\u001b[39;00m \u001b[38;5;21;01mdata_generator\u001b[39;00m\u001b[38;5;21;01m.\u001b[39;00m\u001b[38;5;21;01mprop_generator\u001b[39;00m \u001b[38;5;28;01mimport\u001b[39;00m write_props_json\n\u001b[0;32m     12\u001b[0m \u001b[38;5;28;01mfrom\u001b[39;00m \u001b[38;5;21;01mblender_scripts\u001b[39;00m\u001b[38;5;21;01m.\u001b[39;00m\u001b[38;5;21;01mblender_launcher\u001b[39;00m \u001b[38;5;28;01mimport\u001b[39;00m launch_blender\n\u001b[0;32m     14\u001b[0m \u001b[38;5;28;01mfrom\u001b[39;00m \u001b[38;5;21;01mparameters\u001b[39;00m \u001b[38;5;28;01mimport\u001b[39;00m BATCH_SIZE, train_dir, val_dir, test_dir\n",
      "File \u001b[1;32m~\\Documents\\projects\\BlenderML-WebApp\\WebApp\\MLApp\\data_generator\\prop_generator.py:7\u001b[0m\n\u001b[0;32m      4\u001b[0m \u001b[38;5;28;01mimport\u001b[39;00m \u001b[38;5;21;01mnumpy\u001b[39;00m \u001b[38;5;28;01mas\u001b[39;00m \u001b[38;5;21;01mnp\u001b[39;00m\n\u001b[0;32m      5\u001b[0m \u001b[38;5;28;01mimport\u001b[39;00m \u001b[38;5;21;01muuid\u001b[39;00m\n\u001b[1;32m----> 7\u001b[0m \u001b[38;5;28;01mfrom\u001b[39;00m \u001b[38;5;21;01mMLApp\u001b[39;00m\u001b[38;5;21;01m.\u001b[39;00m\u001b[38;5;21;01mdata_generator\u001b[39;00m\u001b[38;5;21;01m.\u001b[39;00m\u001b[38;5;21;01mmaterial_node\u001b[39;00m \u001b[38;5;28;01mimport\u001b[39;00m MaterialNode\n\u001b[0;32m      9\u001b[0m \u001b[38;5;28;01mdef\u001b[39;00m \u001b[38;5;21mgen_props_json\u001b[39m(directory,num\u001b[38;5;241m=\u001b[39m\u001b[38;5;28;01mNone\u001b[39;00m,props\u001b[38;5;241m=\u001b[39m\u001b[38;5;28;01mNone\u001b[39;00m):   \n\u001b[0;32m     10\u001b[0m     \u001b[38;5;124;03m\"\"\"!Crude implementation! Randomly generates material parameters\u001b[39;00m\n\u001b[0;32m     11\u001b[0m \u001b[38;5;124;03m    and dumps to JSON file.\u001b[39;00m\n\u001b[0;32m     12\u001b[0m \u001b[38;5;124;03m    \"\"\"\u001b[39;00m\n",
      "\u001b[1;31mModuleNotFoundError\u001b[0m: No module named 'MLApp'"
     ]
    }
   ],
   "source": [
    "import os\n",
    "import json\n",
    "import matplotlib.pyplot as plt\n",
    "import matplotlib.image as mpimg\n",
    "from PIL import Image\n",
    "\n",
    "import torch\n",
    "from torchvision import transforms\n",
    "from torch.utils.data import DataLoader\n",
    "\n",
    "from data_generator.prop_generator import write_props_json\n",
    "from blender_scripts.blender_launcher import launch_blender\n",
    "\n",
    "from parameters import BATCH_SIZE, train_dir, val_dir, test_dir\n",
    "from parameters import TRAINING_SET_SIZE, VALIDATION_SET_SIZE, TEST_SET_SIZE\n",
    "from parameters import render_data_script, state_dict_path, state_dict_dir\n",
    "from parameters import device\n",
    "from custom_nn.custom_nn import Net, image_dataset\n",
    "\n",
    "from custom_nn.target_loader import target_loader\n",
    "from custom_nn.train import train\n",
    "from custom_nn.test import test\n",
    "from utils.utils import compare_images, load_from_dir, select_image_dir\n"
   ]
  },
  {
   "cell_type": "code",
   "execution_count": null,
   "id": "2c40776f",
   "metadata": {
    "scrolled": true
   },
   "outputs": [],
   "source": [
    "print(os.getcwd())\n",
    "skybox_list = os.listdir(\"blender_files\\Backgrounds\")\n",
    "skybox_list[0]"
   ]
  },
  {
   "cell_type": "code",
   "execution_count": null,
   "id": "dd4ce7aa",
   "metadata": {
    "scrolled": true
   },
   "outputs": [],
   "source": [
    "skybox_list"
   ]
  },
  {
   "cell_type": "code",
   "execution_count": null,
   "id": "96f3a0e0",
   "metadata": {
    "scrolled": false
   },
   "outputs": [],
   "source": [
    "for i, sky in enumerate(skybox_list):\n",
    "    print(i, sky)"
   ]
  },
  {
   "cell_type": "code",
   "execution_count": null,
   "id": "c62b87ef",
   "metadata": {},
   "outputs": [],
   "source": [
    "\n",
    "\n",
    "state_dict_path = \"\"\n",
    "while True:\n",
    "    try:\n",
    "        state_dict_path = skybox_list[int(input(\"Which state dict did you want to load?\"))]\n",
    "        break\n",
    "    except:\n",
    "        print(\"Invalid option, please try again\")\n",
    "print(\"skybox_path set to: \" + state_dict_path)        "
   ]
  },
  {
   "cell_type": "code",
   "execution_count": null,
   "id": "f2bf0a2f",
   "metadata": {},
   "outputs": [],
   "source": [
    "transform = transforms.Compose([transforms.ToTensor(),transforms.Normalize((0.5,0.5,0.5), (0.5,0.5,0.5))])\n",
    "\n",
    "\n",
    "val_targets=target_loader(val_dir) \n",
    "val_data_set = image_dataset('data\\\\test\\\\renders',val_targets,transform=transform)\n",
    "#subset_val = [val_data_set[i] for i in range(10)]\n",
    "#print(f\"{val_data_set[:10]=}\")\n",
    "#val_data_loader = DataLoader(subset_val, batch_size=1, shuffle=False)"
   ]
  },
  {
   "cell_type": "code",
   "execution_count": null,
   "id": "9d92dcae",
   "metadata": {},
   "outputs": [],
   "source": [
    "model = Net()\n",
    "model.to(device)\n",
    "model.load_state_dict(torch.load(state_dict_path))"
   ]
  },
  {
   "cell_type": "code",
   "execution_count": null,
   "id": "9e6e241c",
   "metadata": {},
   "outputs": [],
   "source": [
    "val_sub_set = val_data_set[:10]"
   ]
  },
  {
   "cell_type": "code",
   "execution_count": null,
   "id": "9ef7127a",
   "metadata": {},
   "outputs": [],
   "source": []
  },
  {
   "cell_type": "code",
   "execution_count": null,
   "id": "8c12c8c7",
   "metadata": {},
   "outputs": [],
   "source": [
    "val_sub_set_loader = DataLoader(val_sub_set, batch_size=1, shuffle=False)"
   ]
  },
  {
   "cell_type": "code",
   "execution_count": null,
   "id": "fcbf356b",
   "metadata": {},
   "outputs": [],
   "source": [
    "b = [a for a in enumerate(val_sub_set_loader)]\n",
    "   "
   ]
  },
  {
   "cell_type": "code",
   "execution_count": null,
   "id": "0c1de1ab",
   "metadata": {},
   "outputs": [],
   "source": [
    "predictions = test(model, val_sub_set_loader)"
   ]
  },
  {
   "cell_type": "code",
   "execution_count": null,
   "id": "4ca3eaeb",
   "metadata": {
    "scrolled": true
   },
   "outputs": [],
   "source": [
    "predictions"
   ]
  },
  {
   "cell_type": "code",
   "execution_count": null,
   "id": "c3c41761",
   "metadata": {},
   "outputs": [],
   "source": [
    "write_props_json(\"data\\\\val\\\\pred\",predictions)"
   ]
  },
  {
   "cell_type": "code",
   "execution_count": null,
   "id": "3a26b710",
   "metadata": {
    "scrolled": false
   },
   "outputs": [],
   "source": [
    "launch_blender(data=val_dir+\"\\\\pred\", script=render_data_script)"
   ]
  },
  {
   "cell_type": "code",
   "execution_count": null,
   "id": "cc1508a4",
   "metadata": {},
   "outputs": [],
   "source": [
    "def numpy_max_min(image):\n",
    "    #image = image.cpu().numpy().transpose((1,2,0))\n",
    "    return ((image - image.min()) / (image.max() - image.min()))"
   ]
  },
  {
   "cell_type": "code",
   "execution_count": null,
   "id": "519adca1",
   "metadata": {},
   "outputs": [],
   "source": [
    "def numpy_max_min(image):\n",
    "    #image = image.cpu().numpy().transpose((1,2,0))\n",
    "    return ((image - image.min()) / (image.max() - image.min()))"
   ]
  },
  {
   "cell_type": "code",
   "execution_count": null,
   "id": "e2157040",
   "metadata": {},
   "outputs": [],
   "source": [
    "pred_render_paths = os.listdir(val_dir+\"\\\\pred\\\\renders\")"
   ]
  },
  {
   "cell_type": "code",
   "execution_count": null,
   "id": "0a907443",
   "metadata": {},
   "outputs": [],
   "source": [
    "pred_render_imgs = []\n",
    "for image_file in pred_render_paths:\n",
    "    pred_render_imgs.append(mpimg.imread(os.path.join(val_dir+\"\\\\pr=ed\\\\renders\",image_file)))"
   ]
  },
  {
   "cell_type": "code",
   "execution_count": null,
   "id": "caffacf8",
   "metadata": {},
   "outputs": [],
   "source": [
    "dir_list = {}\n",
    "with os.scandir(val_dir+\"\\\\pred\\\\renders\") as dir_contents:\n",
    "    for ind, entry in enumerate(dir_contents):\n",
    "        if entry.is_dir():\n",
    "            dir_list.update({ind : entry.name})\n",
    "selection = int(input(f'Which dir would you like to chose? {dir_list}'))\n",
    "selected_dir = dir_list[selection]\n",
    "selected_dir"
   ]
  },
  {
   "cell_type": "code",
   "execution_count": null,
   "id": "00294206",
   "metadata": {},
   "outputs": [],
   "source": []
  },
  {
   "cell_type": "code",
   "execution_count": null,
   "id": "39d098b6",
   "metadata": {
    "scrolled": true
   },
   "outputs": [],
   "source": [
    "val_sub_set[0][0].cpu()"
   ]
  },
  {
   "cell_type": "code",
   "execution_count": null,
   "id": "2727004e",
   "metadata": {},
   "outputs": [],
   "source": [
    "fig, axes = plt.subplots(len(pred_render_imgs), 2, figsize=(10, 2 * len(pred_render_imgs)))\n",
    "\n",
    "for i in range(len(pred_render_imgs)):\n",
    "    axes[i, 0].imshow(numpy_max_min_tf(val_sub_set[i][0]), aspect='equal')\n",
    "    axes[i, 0].set_title(\"X\")\n",
    "    axes[i, 0].axis(\"off\")\n",
    "\n",
    "    axes[i, 1].imshow(numpy_max_min(pred_render_imgs[i]), aspect='equal')\n",
    "    axes[i, 1].set_title(\"Y\")\n",
    "    axes[i, 1].axis(\"off\")"
   ]
  },
  {
   "cell_type": "code",
   "execution_count": null,
   "id": "b8bdac7e",
   "metadata": {},
   "outputs": [],
   "source": [
    "transform = transforms.Compose([transforms.ToTensor(),transforms.Normalize((0.5,0.5,0.5), (0.5,0.5,0.5))])\n",
    "\n",
    "#train_targets = target_loader(train_dir)\n",
    "#train_data_set = image_dataset('data\\\\train\\\\renders',train_targets,transform=transform)\n",
    "#train_data_loader = DataLoader(train_data_set, batch_size=BATCH_SIZE, shuffle=True)\n",
    "\n",
    "val_targets=target_loader(val_dir) \n",
    "val_data_set = image_dataset('data\\\\test\\\\renders',val_targets,transform=transform)\n",
    "#val_data_loader = DataLoader(val_data_set, batch_size=1, shuffle=False)\n",
    "\n",
    "# load neural net, define loss and optimizer\n",
    "\n",
    "model = Net()\n",
    "model.to(device)\n",
    "model.load_state_dict(torch.load(state_dict_path))\n",
    "\n",
    "\n",
    "# train nn on train props\n",
    "\n",
    "#train(model, data_loader=train_data_loader)\n",
    "\n",
    "# test nn on test props\n",
    "val_sub_set = val_data_set[:10]\n",
    "val_sub_set_loader = DataLoader(val_sub_set, batch_size=1, shuffle=False)\n",
    "\n",
    "val_sub_set_predictions = test(model, val_sub_set_loader)\n",
    "write_props_json(\"data\\\\val\\\\pred\",val_sub_set_predictions)\n",
    "launch_blender(data=val_dir+\"\\\\pred\", script=render_data_script)\n",
    "\n",
    "pred_render_dir = select_image_dir(val_dir+\"\\\\pred\\\\renders\")\n",
    "#pred_render_paths = os.listdir(render_dir)\n"
   ]
  },
  {
   "cell_type": "code",
   "execution_count": null,
   "id": "c38e1f61",
   "metadata": {},
   "outputs": [],
   "source": [
    "print(f\"{pred_render_dir}\")"
   ]
  },
  {
   "cell_type": "code",
   "execution_count": null,
   "id": "8cfd113d",
   "metadata": {},
   "outputs": [],
   "source": [
    "pred_render_images = load_from_dir(pred_render_dir)"
   ]
  },
  {
   "cell_type": "code",
   "execution_count": null,
   "id": "64ee4c48",
   "metadata": {},
   "outputs": [],
   "source": [
    "compare_images(pred_render_images,val_sub_set)\n"
   ]
  },
  {
   "cell_type": "code",
   "execution_count": 1,
   "id": "bc669869",
   "metadata": {},
   "outputs": [],
   "source": [
    "import torch\n",
    "import PIL\n",
    "from PIL import Image\n",
    "import os\n",
    "from torch import nn\n",
    "from torchvision import transforms"
   ]
  },
  {
   "cell_type": "code",
   "execution_count": 2,
   "id": "2e41998b",
   "metadata": {},
   "outputs": [],
   "source": [
    "image = PIL.Image.open(\"data/training_datasets/820990fd/10-06-2025-1227-47/train/0df6b64b.jpg\")"
   ]
  },
  {
   "cell_type": "code",
   "execution_count": 93,
   "id": "119c3c79",
   "metadata": {},
   "outputs": [],
   "source": [
    "c1 = nn.Conv2d(in_channels=3, out_channels=16,kernel_size=3, padding=1)\n",
    "c2 = nn.Conv2d(in_channels=16, out_channels=32,kernel_size=3, padding=1) \n",
    "p = p = nn.MaxPool2d(kernel_size=2, stride=2)\n",
    "lin1 = nn.Linear(in_features=500000, out_features=128)\n",
    "lin2 = nn.Linear(in_features=128, out_features=64)\n",
    "lin3 = nn.Linear(in_features=64, out_features=6)\n",
    "transform = transforms.Compose(\n",
    "        [transforms.ToTensor(), transforms.Normalize((0.5, 0.5, 0.5), (0.5, 0.5, 0.5))])\n",
    "tim = transform(image).unsqueeze(0)\n",
    "def flatten(x):\n",
    "    return x.view(x.size(0), -1)  "
   ]
  },
  {
   "cell_type": "code",
   "execution_count": 105,
   "id": "acc710e9",
   "metadata": {},
   "outputs": [],
   "source": [
    "tim = torch.rand([1,3,500,500])"
   ]
  },
  {
   "cell_type": "code",
   "execution_count": 106,
   "id": "bb20419f",
   "metadata": {
    "scrolled": true
   },
   "outputs": [
    {
     "data": {
      "text/plain": [
       "torch.Size([16, 3, 3, 3])"
      ]
     },
     "execution_count": 106,
     "metadata": {},
     "output_type": "execute_result"
    }
   ],
   "source": [
    "c1.weight.shape"
   ]
  },
  {
   "cell_type": "code",
   "execution_count": 107,
   "id": "03e6e3fc",
   "metadata": {},
   "outputs": [
    {
     "data": {
      "text/plain": [
       "torch.Size([1, 3, 500, 500])"
      ]
     },
     "execution_count": 107,
     "metadata": {},
     "output_type": "execute_result"
    }
   ],
   "source": [
    "tim.shape\n"
   ]
  },
  {
   "cell_type": "code",
   "execution_count": 108,
   "id": "6972c84a",
   "metadata": {},
   "outputs": [
    {
     "data": {
      "text/plain": [
       "torch.Size([1, 16, 500, 500])"
      ]
     },
     "execution_count": 108,
     "metadata": {},
     "output_type": "execute_result"
    }
   ],
   "source": [
    "c1o = c1(tim)\n",
    "c1o.shape"
   ]
  },
  {
   "cell_type": "code",
   "execution_count": 109,
   "id": "5f4dde64",
   "metadata": {},
   "outputs": [
    {
     "data": {
      "text/plain": [
       "torch.Size([1, 16, 250, 250])"
      ]
     },
     "execution_count": 109,
     "metadata": {},
     "output_type": "execute_result"
    }
   ],
   "source": [
    "c1po = p(c1o)\n",
    "c1po.shape"
   ]
  },
  {
   "cell_type": "code",
   "execution_count": 110,
   "id": "b42a2b30",
   "metadata": {},
   "outputs": [
    {
     "data": {
      "text/plain": [
       "torch.Size([32, 16, 3, 3])"
      ]
     },
     "execution_count": 110,
     "metadata": {},
     "output_type": "execute_result"
    }
   ],
   "source": [
    "c2.weight.shape"
   ]
  },
  {
   "cell_type": "code",
   "execution_count": 111,
   "id": "03d50c22",
   "metadata": {},
   "outputs": [
    {
     "data": {
      "text/plain": [
       "torch.Size([1, 32, 250, 250])"
      ]
     },
     "execution_count": 111,
     "metadata": {},
     "output_type": "execute_result"
    }
   ],
   "source": [
    "c2o = c2(c1po)\n",
    "c2o.shape"
   ]
  },
  {
   "cell_type": "code",
   "execution_count": 117,
   "id": "e36421c1",
   "metadata": {},
   "outputs": [
    {
     "data": {
      "text/plain": [
       "torch.Size([1, 32, 125, 125])"
      ]
     },
     "execution_count": 117,
     "metadata": {},
     "output_type": "execute_result"
    }
   ],
   "source": [
    "c2po = p(c2o)\n",
    "c2po.shape"
   ]
  },
  {
   "cell_type": "code",
   "execution_count": 118,
   "id": "ce117356",
   "metadata": {},
   "outputs": [
    {
     "data": {
      "text/plain": [
       "torch.Size([1, 500000])"
      ]
     },
     "execution_count": 118,
     "metadata": {},
     "output_type": "execute_result"
    }
   ],
   "source": [
    "flat_c2po = flatten(c2po)\n",
    "flat_c2po.shape"
   ]
  },
  {
   "cell_type": "code",
   "execution_count": 119,
   "id": "1680ab7b",
   "metadata": {},
   "outputs": [
    {
     "data": {
      "text/plain": [
       "500000"
      ]
     },
     "execution_count": 119,
     "metadata": {},
     "output_type": "execute_result"
    }
   ],
   "source": [
    "flat_c2po.shape[1]"
   ]
  },
  {
   "cell_type": "code",
   "execution_count": 7,
   "id": "acff921b",
   "metadata": {},
   "outputs": [],
   "source": [
    "from torchvision.transforms.functional import to_pil_image\n"
   ]
  },
  {
   "cell_type": "code",
   "execution_count": 8,
   "id": "07cd2c20",
   "metadata": {},
   "outputs": [],
   "source": [
    "feature = co[0]"
   ]
  },
  {
   "cell_type": "code",
   "execution_count": 9,
   "id": "704fd547",
   "metadata": {},
   "outputs": [],
   "source": [
    "feature_min = feature.min()\n",
    "feature_max = feature.max()\n",
    "normalized = (feature - feature_min) / (feature_max - feature_min)"
   ]
  },
  {
   "cell_type": "code",
   "execution_count": 10,
   "id": "64480857",
   "metadata": {},
   "outputs": [],
   "source": [
    "img = to_pil_image(normalized)"
   ]
  },
  {
   "cell_type": "code",
   "execution_count": 11,
   "id": "653702a3",
   "metadata": {},
   "outputs": [
    {
     "data": {
      "image/png": "[encoded data removed]",
      "text/plain": [
       "<PIL.Image.Image image mode=L size=500x500>"
      ]
     },
     "execution_count": 11,
     "metadata": {},
     "output_type": "execute_result"
    }
   ],
   "source": [
    "img"
   ]
  },
  {
   "cell_type": "code",
   "execution_count": 17,
   "id": "f7798776",
   "metadata": {},
   "outputs": [
    {
     "data": {
      "text/plain": [
       "torch.Size([16, 3, 3, 3])"
      ]
     },
     "execution_count": 17,
     "metadata": {},
     "output_type": "execute_result"
    }
   ],
   "source": [
    "c.weight.shape"
   ]
  },
  {
   "cell_type": "code",
   "execution_count": 23,
   "id": "db5df0ed",
   "metadata": {},
   "outputs": [],
   "source": [
    "kernel = c2.weight[0]"
   ]
  },
  {
   "cell_type": "code",
   "execution_count": 24,
   "id": "326aca7c",
   "metadata": {},
   "outputs": [],
   "source": [
    "kernel_min = kernel.min()\n",
    "kernel_max = kernel.max()\n",
    "normalized = (kernel - kernel_min) / (kernel_max - kernel_min)"
   ]
  },
  {
   "cell_type": "code",
   "execution_count": 25,
   "id": "c128d0cc",
   "metadata": {},
   "outputs": [
    {
     "ename": "ValueError",
     "evalue": "pic should not have > 4 channels. Got 16 channels.",
     "output_type": "error",
     "traceback": [
      "\u001b[1;31m---------------------------------------------------------------------------\u001b[0m",
      "\u001b[1;31mValueError\u001b[0m                                Traceback (most recent call last)",
      "Cell \u001b[1;32mIn[25], line 1\u001b[0m\n\u001b[1;32m----> 1\u001b[0m img \u001b[38;5;241m=\u001b[39m \u001b[43mto_pil_image\u001b[49m\u001b[43m(\u001b[49m\u001b[43mnormalized\u001b[49m\u001b[43m)\u001b[49m\n",
      "File \u001b[1;32mC:\\ProgramData\\anaconda3\\lib\\site-packages\\torchvision\\transforms\\functional.py:274\u001b[0m, in \u001b[0;36mto_pil_image\u001b[1;34m(pic, mode)\u001b[0m\n\u001b[0;32m    272\u001b[0m     \u001b[38;5;66;03m# check number of channels\u001b[39;00m\n\u001b[0;32m    273\u001b[0m     \u001b[38;5;28;01mif\u001b[39;00m pic\u001b[38;5;241m.\u001b[39mshape[\u001b[38;5;241m-\u001b[39m\u001b[38;5;241m3\u001b[39m] \u001b[38;5;241m>\u001b[39m \u001b[38;5;241m4\u001b[39m:\n\u001b[1;32m--> 274\u001b[0m         \u001b[38;5;28;01mraise\u001b[39;00m \u001b[38;5;167;01mValueError\u001b[39;00m(\u001b[38;5;124mf\u001b[39m\u001b[38;5;124m\"\u001b[39m\u001b[38;5;124mpic should not have > 4 channels. Got \u001b[39m\u001b[38;5;132;01m{\u001b[39;00mpic\u001b[38;5;241m.\u001b[39mshape[\u001b[38;5;241m-\u001b[39m\u001b[38;5;241m3\u001b[39m]\u001b[38;5;132;01m}\u001b[39;00m\u001b[38;5;124m channels.\u001b[39m\u001b[38;5;124m\"\u001b[39m)\n\u001b[0;32m    276\u001b[0m \u001b[38;5;28;01melif\u001b[39;00m \u001b[38;5;28misinstance\u001b[39m(pic, np\u001b[38;5;241m.\u001b[39mndarray):\n\u001b[0;32m    277\u001b[0m     \u001b[38;5;28;01mif\u001b[39;00m pic\u001b[38;5;241m.\u001b[39mndim \u001b[38;5;129;01mnot\u001b[39;00m \u001b[38;5;129;01min\u001b[39;00m {\u001b[38;5;241m2\u001b[39m, \u001b[38;5;241m3\u001b[39m}:\n",
      "\u001b[1;31mValueError\u001b[0m: pic should not have > 4 channels. Got 16 channels."
     ]
    }
   ],
   "source": [
    "img = to_pil_image(normalized)"
   ]
  },
  {
   "cell_type": "code",
   "execution_count": 26,
   "id": "7b87675d",
   "metadata": {},
   "outputs": [
    {
     "data": {
      "image/png": "[encoded data removed]",
      "text/plain": [
       "<PIL.Image.Image image mode=RGB size=3x3>"
      ]
     },
     "execution_count": 26,
     "metadata": {},
     "output_type": "execute_result"
    }
   ],
   "source": [
    "img"
   ]
  },
  {
   "cell_type": "code",
   "execution_count": null,
   "id": "9cfab51f",
   "metadata": {},
   "outputs": [],
   "source": []
  }
 ],
 "metadata": {
  "kernelspec": {
   "display_name": "Python 3 (ipykernel)",
   "language": "python",
   "name": "python3"
  },
  "language_info": {
   "codemirror_mode": {
    "name": "ipython",
    "version": 3
   },
   "file_extension": ".py",
   "mimetype": "text/x-python",
   "name": "python",
   "nbconvert_exporter": "python",
   "pygments_lexer": "ipython3",
   "version": "3.10.9"
  }
 },
 "nbformat": 4,
 "nbformat_minor": 5
}
